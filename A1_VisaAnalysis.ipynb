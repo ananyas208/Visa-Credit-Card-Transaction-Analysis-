{
  "nbformat": 4,
  "nbformat_minor": 0,
  "metadata": {
    "colab": {
      "provenance": []
    },
    "kernelspec": {
      "name": "python3",
      "display_name": "Python 3"
    },
    "language_info": {
      "name": "python"
    }
  },
  "cells": [
    {
      "cell_type": "markdown",
      "source": [
        "# **Graduation Project Visa: Unlocking Customer Insights to Maximize Transaction Value**\n",
        "\n",
        "\n"
      ],
      "metadata": {
        "id": "6AS8Xfsm3iqW"
      }
    },
    {
      "cell_type": "markdown",
      "source": [
        "# Business Problem Overview"
      ],
      "metadata": {
        "id": "C9AX9Akg4Jvw"
      }
    },
    {
      "cell_type": "markdown",
      "source": [
        "# **Maximizing Customer Value Through Transaction Intelligence at Visa**\n",
        "\n",
        "### Visa, one of the world’s leading digital payment networks, processes billions of credit card transactions daily across retail, travel, fuel, entertainment, and e-commerce sectors. With a vast footprint of merchants and cardholders, Visa holds an unparalleled view into consumer spending behaviors across geographies and demographics.\n",
        "\n",
        "### As the company evolves, its growth strategy is shifting from expanding its user base to deepening the value it generates from existing customers. In a competitive financial ecosystem, this requires a deeper understanding of transaction-level data to uncover insights that drive loyalty, engagement, and profitability.\n",
        "\n",
        "### With millions of transactions occurring each day, even small patterns in spending behavior, anomalies, or shifting preferences can have a significant impact on customer value and risk. Identifying these hidden signals will allow Visa to better serve its customers, mitigate fraud, and optimize cross-functional decision-making across marketing, risk, and product teams."
      ],
      "metadata": {
        "id": "TZNTVRKj4dPJ"
      }
    },
    {
      "cell_type": "markdown",
      "source": [
        "# **Objective**"
      ],
      "metadata": {
        "id": "ikEwtQ8J49_M"
      }
    },
    {
      "cell_type": "markdown",
      "source": [
        "# This project aims to analyze Visa’s large-scale transaction data to:\n",
        "\n",
        "### * Understand customer behavior: Identify trends in transaction frequency, category preferences, and spend levels.\n",
        "\n",
        "### * Detect churn and risk signals: Recognize patterns that indicate reduced customer activity or potential fraud.\n",
        "\n",
        "### * Maximize Customer Lifetime Value (CLV): Segment customers by value and behavior to support targeted retention, engagement, and risk-prevention strategies.\n"
      ],
      "metadata": {
        "id": "FjoE58_B5FSu"
      }
    },
    {
      "cell_type": "markdown",
      "source": [
        "# Business Impact"
      ],
      "metadata": {
        "id": "2Z3qe3rE_Ckt"
      }
    },
    {
      "cell_type": "markdown",
      "source": [
        "## By uncovering key behavioral insights from transaction data, this analysis will enable Visa to:\n",
        "\n",
        "1.Deepen customer engagement through personalized offers and experiences.\n",
        "\n",
        "2.Reduce revenue leakage by proactively identifying at-risk customers and fraud signals.\n",
        "\n",
        "3.Support strategic decision-making across marketing, product, and risk teams through data-backed customer intelligence.\n",
        "\n",
        "In doing so, this project contributes to Visa’s broader mission of driving secure, personalized, and value-rich payment experiences—while ensuring long-term growth and loyalty in a dynamic financial landscape."
      ],
      "metadata": {
        "id": "53UpXZJX_GA4"
      }
    },
    {
      "cell_type": "markdown",
      "source": [
        "# Dataset Overview\n",
        "\n",
        "Dataset Name: Visa Dataset\n",
        "Number of Rows: 1296675\n",
        "Number of Columns: 24\n",
        "\n",
        "Description: This dataset contains detailed records of credit card transactions made by customers across the United States. Each row captures one transaction and includes timestamped purchase details, customer demographics, merchant data, and a fraud flag. The dataset enables behavioral analysis, fraud detection, churn prediction, and segmentation for customer lifetime value (CLV) modeling."
      ],
      "metadata": {
        "id": "Kh6iglnc_Tbq"
      }
    },
    {
      "cell_type": "markdown",
      "source": [
        "\n",
        "# Column Definitions\n",
        "\n",
        "1. trans_date_trans_time – Full timestamp of the transaction (includes both date and time).\n",
        "2. cc_num – Masked credit card number used by the customer.\n",
        "3. merchant – Name of the merchant where the transaction occurred.\n",
        "4. category – Type of merchant/business (e.g., gas_transport, grocery_pos, travel).\n",
        "5. amt – Transaction amount in USD.\n",
        "6. first – First name of the cardholder.\n",
        "7. last – Last name of the cardholder.\n",
        "8. gender – Gender of the cardholder (M or F).\n",
        "9. street – Street address of the cardholder.\n",
        "10. city – City of residence of the cardholder.\n",
        "11. state – State of residence.\n",
        "12. zip – Zip code of residence.\n",
        "13. lat – Latitude of the cardholder’s location.\n",
        "14. long – Longitude of the cardholder’s location.\n",
        "15. city_pop – Population of the cardholder’s city.\n",
        "16. job – Profession/job title of the cardholder.\n",
        "17. dob – Date of birth of the cardholder.\n",
        "18. trans_num – Unique transaction ID.\n",
        "19. unix_time – Unix timestamp version of the transaction time.\n",
        "20. merch_lat – Latitude of the merchant's location.\n",
        "21. merch_long – Longitude of the merchant's location.\n",
        "22. is_fraud – Binary flag indicating if the transaction was fraudulent (1) or not (0).\n",
        "23. merch_zipcode – Zip code of the merchant's location."
      ],
      "metadata": {
        "id": "Z11VP5Sd_kX-"
      }
    },
    {
      "cell_type": "markdown",
      "source": [
        "# **Analysis & Visualisation !**"
      ],
      "metadata": {
        "id": "U9-Uz4-9_zDC"
      }
    },
    {
      "cell_type": "markdown",
      "source": [
        "Importing Necessary Libraries"
      ],
      "metadata": {
        "id": "HcW-8g5G_0O6"
      }
    },
    {
      "cell_type": "code",
      "source": [
        "import pandas as pd  # For data manipulation and analysis\n",
        "import numpy as np  # For numerical computations\n",
        "import matplotlib.pyplot as plt  # For plotting and visualization\n",
        "import seaborn as sns  # For advanced visualizations"
      ],
      "metadata": {
        "id": "5G2GMgVw_545"
      },
      "execution_count": 2,
      "outputs": []
    },
    {
      "cell_type": "markdown",
      "source": [
        "Loading the Dataset from google drive"
      ],
      "metadata": {
        "id": "m5xB6FAc_3kK"
      }
    },
    {
      "cell_type": "code",
      "source": [
        "!pip install gdown"
      ],
      "metadata": {
        "colab": {
          "base_uri": "https://localhost:8080/"
        },
        "id": "6hCgQUQk_P6c",
        "outputId": "4bb2fbc0-201e-46e1-ff9c-21e371c86aff"
      },
      "execution_count": 3,
      "outputs": [
        {
          "output_type": "stream",
          "name": "stdout",
          "text": [
            "Requirement already satisfied: gdown in /usr/local/lib/python3.11/dist-packages (5.2.0)\n",
            "Requirement already satisfied: beautifulsoup4 in /usr/local/lib/python3.11/dist-packages (from gdown) (4.13.4)\n",
            "Requirement already satisfied: filelock in /usr/local/lib/python3.11/dist-packages (from gdown) (3.18.0)\n",
            "Requirement already satisfied: requests[socks] in /usr/local/lib/python3.11/dist-packages (from gdown) (2.32.3)\n",
            "Requirement already satisfied: tqdm in /usr/local/lib/python3.11/dist-packages (from gdown) (4.67.1)\n",
            "Requirement already satisfied: soupsieve>1.2 in /usr/local/lib/python3.11/dist-packages (from beautifulsoup4->gdown) (2.7)\n",
            "Requirement already satisfied: typing-extensions>=4.0.0 in /usr/local/lib/python3.11/dist-packages (from beautifulsoup4->gdown) (4.14.1)\n",
            "Requirement already satisfied: charset-normalizer<4,>=2 in /usr/local/lib/python3.11/dist-packages (from requests[socks]->gdown) (3.4.2)\n",
            "Requirement already satisfied: idna<4,>=2.5 in /usr/local/lib/python3.11/dist-packages (from requests[socks]->gdown) (3.10)\n",
            "Requirement already satisfied: urllib3<3,>=1.21.1 in /usr/local/lib/python3.11/dist-packages (from requests[socks]->gdown) (2.5.0)\n",
            "Requirement already satisfied: certifi>=2017.4.17 in /usr/local/lib/python3.11/dist-packages (from requests[socks]->gdown) (2025.7.14)\n",
            "Requirement already satisfied: PySocks!=1.5.7,>=1.5.6 in /usr/local/lib/python3.11/dist-packages (from requests[socks]->gdown) (1.7.1)\n"
          ]
        }
      ]
    },
    {
      "cell_type": "code",
      "source": [
        "import gdown\n",
        "import pandas as pd\n"
      ],
      "metadata": {
        "id": "QOlUo8TpAJPF"
      },
      "execution_count": 4,
      "outputs": []
    },
    {
      "cell_type": "code",
      "source": [
        "file_id = '1Al5-ugZv7fSev2t9tUB09Z9caZMKvftd'\n",
        "download_url = f\"https://drive.google.com/uc?id={'1Al5-ugZv7fSev2t9tUB09Z9caZMKvftd'}\"\n",
        "\n",
        "output_file=\"VisaDataset.csv\"\n",
        "gdown.download(download_url, output_file, quiet=False)"
      ],
      "metadata": {
        "id": "oawOUnbCVnKF",
        "colab": {
          "base_uri": "https://localhost:8080/",
          "height": 122
        },
        "outputId": "c75a5ea4-090a-4e3b-91fa-e6af8a2dd154"
      },
      "execution_count": 5,
      "outputs": [
        {
          "output_type": "stream",
          "name": "stderr",
          "text": [
            "Downloading...\n",
            "From (original): https://drive.google.com/uc?id=1Al5-ugZv7fSev2t9tUB09Z9caZMKvftd\n",
            "From (redirected): https://drive.google.com/uc?id=1Al5-ugZv7fSev2t9tUB09Z9caZMKvftd&confirm=t&uuid=fe8e9d8d-3d79-49fe-b83c-a284eefe6258\n",
            "To: /content/VisaDataset.csv\n",
            "100%|██████████| 354M/354M [00:04<00:00, 81.7MB/s]\n"
          ]
        },
        {
          "output_type": "execute_result",
          "data": {
            "text/plain": [
              "'VisaDataset.csv'"
            ],
            "application/vnd.google.colaboratory.intrinsic+json": {
              "type": "string"
            }
          },
          "metadata": {},
          "execution_count": 5
        }
      ]
    },
    {
      "cell_type": "code",
      "source": [
        "dataset = pd.read_csv(\"VisaDataset.csv\", encoding='latin1')"
      ],
      "metadata": {
        "id": "Xxf3WSfdAYbB"
      },
      "execution_count": 6,
      "outputs": []
    },
    {
      "cell_type": "markdown",
      "source": [
        "Viewing the First Few Rows of the Dataset"
      ],
      "metadata": {
        "id": "B-6MjDr4AhFI"
      }
    },
    {
      "cell_type": "code",
      "source": [
        "print(\"First 5 Rows of the Dataset:\")\n",
        "dataset.head()"
      ],
      "metadata": {
        "colab": {
          "base_uri": "https://localhost:8080/",
          "height": 357
        },
        "id": "aDj_mi_lAiUS",
        "outputId": "73aaffbb-c1f8-4c38-b9db-7897b9415927"
      },
      "execution_count": 7,
      "outputs": [
        {
          "output_type": "stream",
          "name": "stdout",
          "text": [
            "First 5 Rows of the Dataset:\n"
          ]
        },
        {
          "output_type": "execute_result",
          "data": {
            "text/plain": [
              "   Unnamed: 0 trans_date_trans_time            cc_num  \\\n",
              "0           0   2019-01-01 00:00:18  2703186189652095   \n",
              "1           1   2019-01-01 00:00:44      630423337322   \n",
              "2           2   2019-01-01 00:00:51    38859492057661   \n",
              "3           3   2019-01-01 00:01:16  3534093764340240   \n",
              "4           4   2019-01-01 00:03:06   375534208663984   \n",
              "\n",
              "                             merchant       category     amt      first  \\\n",
              "0          fraud_Rippin, Kub and Mann       misc_net    4.97   Jennifer   \n",
              "1     fraud_Heller, Gutmann and Zieme    grocery_pos  107.23  Stephanie   \n",
              "2                fraud_Lind-Buckridge  entertainment  220.11     Edward   \n",
              "3  fraud_Kutch, Hermiston and Farrell  gas_transport   45.00     Jeremy   \n",
              "4                 fraud_Keeling-Crist       misc_pos   41.96      Tyler   \n",
              "\n",
              "      last gender                        street  ...      long city_pop  \\\n",
              "0    Banks      F                561 Perry Cove  ...  -81.1781     3495   \n",
              "1     Gill      F  43039 Riley Greens Suite 393  ... -118.2105      149   \n",
              "2  Sanchez      M      594 White Dale Suite 530  ... -112.2620     4154   \n",
              "3    White      M   9443 Cynthia Court Apt. 038  ... -112.1138     1939   \n",
              "4   Garcia      M              408 Bradley Rest  ...  -79.4629       99   \n",
              "\n",
              "                                 job         dob  \\\n",
              "0          Psychologist, counselling  1988-03-09   \n",
              "1  Special educational needs teacher  1978-06-21   \n",
              "2        Nature conservation officer  1962-01-19   \n",
              "3                    Patent attorney  1967-01-12   \n",
              "4     Dance movement psychotherapist  1986-03-28   \n",
              "\n",
              "                          trans_num   unix_time  merch_lat  merch_long  \\\n",
              "0  0b242abb623afc578575680df30655b9  1325376018  36.011293  -82.048315   \n",
              "1  1f76529f8574734946361c461b024d99  1325376044  49.159047 -118.186462   \n",
              "2  a1a22d70485983eac12b5b88dad1cf95  1325376051  43.150704 -112.154481   \n",
              "3  6b849c168bdad6f867558c3793159a81  1325376076  47.034331 -112.561071   \n",
              "4  a41d7549acf90789359a9aa5346dcb46  1325376186  38.674999  -78.632459   \n",
              "\n",
              "  is_fraud  merch_zipcode  \n",
              "0        0        28705.0  \n",
              "1        0            NaN  \n",
              "2        0        83236.0  \n",
              "3        0            NaN  \n",
              "4        0        22844.0  \n",
              "\n",
              "[5 rows x 24 columns]"
            ],
            "text/html": [
              "\n",
              "  <div id=\"df-c8cf0048-bac4-418a-bbbb-1e2e8e2c9489\" class=\"colab-df-container\">\n",
              "    <div>\n",
              "<style scoped>\n",
              "    .dataframe tbody tr th:only-of-type {\n",
              "        vertical-align: middle;\n",
              "    }\n",
              "\n",
              "    .dataframe tbody tr th {\n",
              "        vertical-align: top;\n",
              "    }\n",
              "\n",
              "    .dataframe thead th {\n",
              "        text-align: right;\n",
              "    }\n",
              "</style>\n",
              "<table border=\"1\" class=\"dataframe\">\n",
              "  <thead>\n",
              "    <tr style=\"text-align: right;\">\n",
              "      <th></th>\n",
              "      <th>Unnamed: 0</th>\n",
              "      <th>trans_date_trans_time</th>\n",
              "      <th>cc_num</th>\n",
              "      <th>merchant</th>\n",
              "      <th>category</th>\n",
              "      <th>amt</th>\n",
              "      <th>first</th>\n",
              "      <th>last</th>\n",
              "      <th>gender</th>\n",
              "      <th>street</th>\n",
              "      <th>...</th>\n",
              "      <th>long</th>\n",
              "      <th>city_pop</th>\n",
              "      <th>job</th>\n",
              "      <th>dob</th>\n",
              "      <th>trans_num</th>\n",
              "      <th>unix_time</th>\n",
              "      <th>merch_lat</th>\n",
              "      <th>merch_long</th>\n",
              "      <th>is_fraud</th>\n",
              "      <th>merch_zipcode</th>\n",
              "    </tr>\n",
              "  </thead>\n",
              "  <tbody>\n",
              "    <tr>\n",
              "      <th>0</th>\n",
              "      <td>0</td>\n",
              "      <td>2019-01-01 00:00:18</td>\n",
              "      <td>2703186189652095</td>\n",
              "      <td>fraud_Rippin, Kub and Mann</td>\n",
              "      <td>misc_net</td>\n",
              "      <td>4.97</td>\n",
              "      <td>Jennifer</td>\n",
              "      <td>Banks</td>\n",
              "      <td>F</td>\n",
              "      <td>561 Perry Cove</td>\n",
              "      <td>...</td>\n",
              "      <td>-81.1781</td>\n",
              "      <td>3495</td>\n",
              "      <td>Psychologist, counselling</td>\n",
              "      <td>1988-03-09</td>\n",
              "      <td>0b242abb623afc578575680df30655b9</td>\n",
              "      <td>1325376018</td>\n",
              "      <td>36.011293</td>\n",
              "      <td>-82.048315</td>\n",
              "      <td>0</td>\n",
              "      <td>28705.0</td>\n",
              "    </tr>\n",
              "    <tr>\n",
              "      <th>1</th>\n",
              "      <td>1</td>\n",
              "      <td>2019-01-01 00:00:44</td>\n",
              "      <td>630423337322</td>\n",
              "      <td>fraud_Heller, Gutmann and Zieme</td>\n",
              "      <td>grocery_pos</td>\n",
              "      <td>107.23</td>\n",
              "      <td>Stephanie</td>\n",
              "      <td>Gill</td>\n",
              "      <td>F</td>\n",
              "      <td>43039 Riley Greens Suite 393</td>\n",
              "      <td>...</td>\n",
              "      <td>-118.2105</td>\n",
              "      <td>149</td>\n",
              "      <td>Special educational needs teacher</td>\n",
              "      <td>1978-06-21</td>\n",
              "      <td>1f76529f8574734946361c461b024d99</td>\n",
              "      <td>1325376044</td>\n",
              "      <td>49.159047</td>\n",
              "      <td>-118.186462</td>\n",
              "      <td>0</td>\n",
              "      <td>NaN</td>\n",
              "    </tr>\n",
              "    <tr>\n",
              "      <th>2</th>\n",
              "      <td>2</td>\n",
              "      <td>2019-01-01 00:00:51</td>\n",
              "      <td>38859492057661</td>\n",
              "      <td>fraud_Lind-Buckridge</td>\n",
              "      <td>entertainment</td>\n",
              "      <td>220.11</td>\n",
              "      <td>Edward</td>\n",
              "      <td>Sanchez</td>\n",
              "      <td>M</td>\n",
              "      <td>594 White Dale Suite 530</td>\n",
              "      <td>...</td>\n",
              "      <td>-112.2620</td>\n",
              "      <td>4154</td>\n",
              "      <td>Nature conservation officer</td>\n",
              "      <td>1962-01-19</td>\n",
              "      <td>a1a22d70485983eac12b5b88dad1cf95</td>\n",
              "      <td>1325376051</td>\n",
              "      <td>43.150704</td>\n",
              "      <td>-112.154481</td>\n",
              "      <td>0</td>\n",
              "      <td>83236.0</td>\n",
              "    </tr>\n",
              "    <tr>\n",
              "      <th>3</th>\n",
              "      <td>3</td>\n",
              "      <td>2019-01-01 00:01:16</td>\n",
              "      <td>3534093764340240</td>\n",
              "      <td>fraud_Kutch, Hermiston and Farrell</td>\n",
              "      <td>gas_transport</td>\n",
              "      <td>45.00</td>\n",
              "      <td>Jeremy</td>\n",
              "      <td>White</td>\n",
              "      <td>M</td>\n",
              "      <td>9443 Cynthia Court Apt. 038</td>\n",
              "      <td>...</td>\n",
              "      <td>-112.1138</td>\n",
              "      <td>1939</td>\n",
              "      <td>Patent attorney</td>\n",
              "      <td>1967-01-12</td>\n",
              "      <td>6b849c168bdad6f867558c3793159a81</td>\n",
              "      <td>1325376076</td>\n",
              "      <td>47.034331</td>\n",
              "      <td>-112.561071</td>\n",
              "      <td>0</td>\n",
              "      <td>NaN</td>\n",
              "    </tr>\n",
              "    <tr>\n",
              "      <th>4</th>\n",
              "      <td>4</td>\n",
              "      <td>2019-01-01 00:03:06</td>\n",
              "      <td>375534208663984</td>\n",
              "      <td>fraud_Keeling-Crist</td>\n",
              "      <td>misc_pos</td>\n",
              "      <td>41.96</td>\n",
              "      <td>Tyler</td>\n",
              "      <td>Garcia</td>\n",
              "      <td>M</td>\n",
              "      <td>408 Bradley Rest</td>\n",
              "      <td>...</td>\n",
              "      <td>-79.4629</td>\n",
              "      <td>99</td>\n",
              "      <td>Dance movement psychotherapist</td>\n",
              "      <td>1986-03-28</td>\n",
              "      <td>a41d7549acf90789359a9aa5346dcb46</td>\n",
              "      <td>1325376186</td>\n",
              "      <td>38.674999</td>\n",
              "      <td>-78.632459</td>\n",
              "      <td>0</td>\n",
              "      <td>22844.0</td>\n",
              "    </tr>\n",
              "  </tbody>\n",
              "</table>\n",
              "<p>5 rows × 24 columns</p>\n",
              "</div>\n",
              "    <div class=\"colab-df-buttons\">\n",
              "\n",
              "  <div class=\"colab-df-container\">\n",
              "    <button class=\"colab-df-convert\" onclick=\"convertToInteractive('df-c8cf0048-bac4-418a-bbbb-1e2e8e2c9489')\"\n",
              "            title=\"Convert this dataframe to an interactive table.\"\n",
              "            style=\"display:none;\">\n",
              "\n",
              "  <svg xmlns=\"http://www.w3.org/2000/svg\" height=\"24px\" viewBox=\"0 -960 960 960\">\n",
              "    <path d=\"M120-120v-720h720v720H120Zm60-500h600v-160H180v160Zm220 220h160v-160H400v160Zm0 220h160v-160H400v160ZM180-400h160v-160H180v160Zm440 0h160v-160H620v160ZM180-180h160v-160H180v160Zm440 0h160v-160H620v160Z\"/>\n",
              "  </svg>\n",
              "    </button>\n",
              "\n",
              "  <style>\n",
              "    .colab-df-container {\n",
              "      display:flex;\n",
              "      gap: 12px;\n",
              "    }\n",
              "\n",
              "    .colab-df-convert {\n",
              "      background-color: #E8F0FE;\n",
              "      border: none;\n",
              "      border-radius: 50%;\n",
              "      cursor: pointer;\n",
              "      display: none;\n",
              "      fill: #1967D2;\n",
              "      height: 32px;\n",
              "      padding: 0 0 0 0;\n",
              "      width: 32px;\n",
              "    }\n",
              "\n",
              "    .colab-df-convert:hover {\n",
              "      background-color: #E2EBFA;\n",
              "      box-shadow: 0px 1px 2px rgba(60, 64, 67, 0.3), 0px 1px 3px 1px rgba(60, 64, 67, 0.15);\n",
              "      fill: #174EA6;\n",
              "    }\n",
              "\n",
              "    .colab-df-buttons div {\n",
              "      margin-bottom: 4px;\n",
              "    }\n",
              "\n",
              "    [theme=dark] .colab-df-convert {\n",
              "      background-color: #3B4455;\n",
              "      fill: #D2E3FC;\n",
              "    }\n",
              "\n",
              "    [theme=dark] .colab-df-convert:hover {\n",
              "      background-color: #434B5C;\n",
              "      box-shadow: 0px 1px 3px 1px rgba(0, 0, 0, 0.15);\n",
              "      filter: drop-shadow(0px 1px 2px rgba(0, 0, 0, 0.3));\n",
              "      fill: #FFFFFF;\n",
              "    }\n",
              "  </style>\n",
              "\n",
              "    <script>\n",
              "      const buttonEl =\n",
              "        document.querySelector('#df-c8cf0048-bac4-418a-bbbb-1e2e8e2c9489 button.colab-df-convert');\n",
              "      buttonEl.style.display =\n",
              "        google.colab.kernel.accessAllowed ? 'block' : 'none';\n",
              "\n",
              "      async function convertToInteractive(key) {\n",
              "        const element = document.querySelector('#df-c8cf0048-bac4-418a-bbbb-1e2e8e2c9489');\n",
              "        const dataTable =\n",
              "          await google.colab.kernel.invokeFunction('convertToInteractive',\n",
              "                                                    [key], {});\n",
              "        if (!dataTable) return;\n",
              "\n",
              "        const docLinkHtml = 'Like what you see? Visit the ' +\n",
              "          '<a target=\"_blank\" href=https://colab.research.google.com/notebooks/data_table.ipynb>data table notebook</a>'\n",
              "          + ' to learn more about interactive tables.';\n",
              "        element.innerHTML = '';\n",
              "        dataTable['output_type'] = 'display_data';\n",
              "        await google.colab.output.renderOutput(dataTable, element);\n",
              "        const docLink = document.createElement('div');\n",
              "        docLink.innerHTML = docLinkHtml;\n",
              "        element.appendChild(docLink);\n",
              "      }\n",
              "    </script>\n",
              "  </div>\n",
              "\n",
              "\n",
              "    <div id=\"df-83e187d5-9a71-4fa8-9ca1-56f2b963a424\">\n",
              "      <button class=\"colab-df-quickchart\" onclick=\"quickchart('df-83e187d5-9a71-4fa8-9ca1-56f2b963a424')\"\n",
              "                title=\"Suggest charts\"\n",
              "                style=\"display:none;\">\n",
              "\n",
              "<svg xmlns=\"http://www.w3.org/2000/svg\" height=\"24px\"viewBox=\"0 0 24 24\"\n",
              "     width=\"24px\">\n",
              "    <g>\n",
              "        <path d=\"M19 3H5c-1.1 0-2 .9-2 2v14c0 1.1.9 2 2 2h14c1.1 0 2-.9 2-2V5c0-1.1-.9-2-2-2zM9 17H7v-7h2v7zm4 0h-2V7h2v10zm4 0h-2v-4h2v4z\"/>\n",
              "    </g>\n",
              "</svg>\n",
              "      </button>\n",
              "\n",
              "<style>\n",
              "  .colab-df-quickchart {\n",
              "      --bg-color: #E8F0FE;\n",
              "      --fill-color: #1967D2;\n",
              "      --hover-bg-color: #E2EBFA;\n",
              "      --hover-fill-color: #174EA6;\n",
              "      --disabled-fill-color: #AAA;\n",
              "      --disabled-bg-color: #DDD;\n",
              "  }\n",
              "\n",
              "  [theme=dark] .colab-df-quickchart {\n",
              "      --bg-color: #3B4455;\n",
              "      --fill-color: #D2E3FC;\n",
              "      --hover-bg-color: #434B5C;\n",
              "      --hover-fill-color: #FFFFFF;\n",
              "      --disabled-bg-color: #3B4455;\n",
              "      --disabled-fill-color: #666;\n",
              "  }\n",
              "\n",
              "  .colab-df-quickchart {\n",
              "    background-color: var(--bg-color);\n",
              "    border: none;\n",
              "    border-radius: 50%;\n",
              "    cursor: pointer;\n",
              "    display: none;\n",
              "    fill: var(--fill-color);\n",
              "    height: 32px;\n",
              "    padding: 0;\n",
              "    width: 32px;\n",
              "  }\n",
              "\n",
              "  .colab-df-quickchart:hover {\n",
              "    background-color: var(--hover-bg-color);\n",
              "    box-shadow: 0 1px 2px rgba(60, 64, 67, 0.3), 0 1px 3px 1px rgba(60, 64, 67, 0.15);\n",
              "    fill: var(--button-hover-fill-color);\n",
              "  }\n",
              "\n",
              "  .colab-df-quickchart-complete:disabled,\n",
              "  .colab-df-quickchart-complete:disabled:hover {\n",
              "    background-color: var(--disabled-bg-color);\n",
              "    fill: var(--disabled-fill-color);\n",
              "    box-shadow: none;\n",
              "  }\n",
              "\n",
              "  .colab-df-spinner {\n",
              "    border: 2px solid var(--fill-color);\n",
              "    border-color: transparent;\n",
              "    border-bottom-color: var(--fill-color);\n",
              "    animation:\n",
              "      spin 1s steps(1) infinite;\n",
              "  }\n",
              "\n",
              "  @keyframes spin {\n",
              "    0% {\n",
              "      border-color: transparent;\n",
              "      border-bottom-color: var(--fill-color);\n",
              "      border-left-color: var(--fill-color);\n",
              "    }\n",
              "    20% {\n",
              "      border-color: transparent;\n",
              "      border-left-color: var(--fill-color);\n",
              "      border-top-color: var(--fill-color);\n",
              "    }\n",
              "    30% {\n",
              "      border-color: transparent;\n",
              "      border-left-color: var(--fill-color);\n",
              "      border-top-color: var(--fill-color);\n",
              "      border-right-color: var(--fill-color);\n",
              "    }\n",
              "    40% {\n",
              "      border-color: transparent;\n",
              "      border-right-color: var(--fill-color);\n",
              "      border-top-color: var(--fill-color);\n",
              "    }\n",
              "    60% {\n",
              "      border-color: transparent;\n",
              "      border-right-color: var(--fill-color);\n",
              "    }\n",
              "    80% {\n",
              "      border-color: transparent;\n",
              "      border-right-color: var(--fill-color);\n",
              "      border-bottom-color: var(--fill-color);\n",
              "    }\n",
              "    90% {\n",
              "      border-color: transparent;\n",
              "      border-bottom-color: var(--fill-color);\n",
              "    }\n",
              "  }\n",
              "</style>\n",
              "\n",
              "      <script>\n",
              "        async function quickchart(key) {\n",
              "          const quickchartButtonEl =\n",
              "            document.querySelector('#' + key + ' button');\n",
              "          quickchartButtonEl.disabled = true;  // To prevent multiple clicks.\n",
              "          quickchartButtonEl.classList.add('colab-df-spinner');\n",
              "          try {\n",
              "            const charts = await google.colab.kernel.invokeFunction(\n",
              "                'suggestCharts', [key], {});\n",
              "          } catch (error) {\n",
              "            console.error('Error during call to suggestCharts:', error);\n",
              "          }\n",
              "          quickchartButtonEl.classList.remove('colab-df-spinner');\n",
              "          quickchartButtonEl.classList.add('colab-df-quickchart-complete');\n",
              "        }\n",
              "        (() => {\n",
              "          let quickchartButtonEl =\n",
              "            document.querySelector('#df-83e187d5-9a71-4fa8-9ca1-56f2b963a424 button');\n",
              "          quickchartButtonEl.style.display =\n",
              "            google.colab.kernel.accessAllowed ? 'block' : 'none';\n",
              "        })();\n",
              "      </script>\n",
              "    </div>\n",
              "\n",
              "    </div>\n",
              "  </div>\n"
            ],
            "application/vnd.google.colaboratory.intrinsic+json": {
              "type": "dataframe",
              "variable_name": "dataset"
            }
          },
          "metadata": {},
          "execution_count": 7
        }
      ]
    },
    {
      "cell_type": "markdown",
      "source": [
        "Checking the Shape of the Dataset"
      ],
      "metadata": {
        "id": "zKVU5sS_BHJg"
      }
    },
    {
      "cell_type": "code",
      "source": [
        "rows, columns = dataset.shape\n",
        "print(f\"The dataset contains {rows} rows and {columns} columns\")"
      ],
      "metadata": {
        "colab": {
          "base_uri": "https://localhost:8080/"
        },
        "id": "cK3lnxgQBFA2",
        "outputId": "5ed16266-9245-44af-97ab-5af4a93a7716"
      },
      "execution_count": 8,
      "outputs": [
        {
          "output_type": "stream",
          "name": "stdout",
          "text": [
            "The dataset contains 1296675 rows and 24 columns\n"
          ]
        }
      ]
    },
    {
      "cell_type": "markdown",
      "source": [
        "Displaying Dataset Information"
      ],
      "metadata": {
        "id": "AhE1kcSiBRW6"
      }
    },
    {
      "cell_type": "code",
      "source": [
        "print(\"\\nDataset Information:\")\n",
        "dataset.info()"
      ],
      "metadata": {
        "colab": {
          "base_uri": "https://localhost:8080/"
        },
        "id": "hDTTwYidBUcb",
        "outputId": "7cd14c0b-cfc9-4eb1-e875-78f18004512b"
      },
      "execution_count": 9,
      "outputs": [
        {
          "output_type": "stream",
          "name": "stdout",
          "text": [
            "\n",
            "Dataset Information:\n",
            "<class 'pandas.core.frame.DataFrame'>\n",
            "RangeIndex: 1296675 entries, 0 to 1296674\n",
            "Data columns (total 24 columns):\n",
            " #   Column                 Non-Null Count    Dtype  \n",
            "---  ------                 --------------    -----  \n",
            " 0   Unnamed: 0             1296675 non-null  int64  \n",
            " 1   trans_date_trans_time  1296675 non-null  object \n",
            " 2   cc_num                 1296675 non-null  int64  \n",
            " 3   merchant               1296675 non-null  object \n",
            " 4   category               1296675 non-null  object \n",
            " 5   amt                    1296675 non-null  float64\n",
            " 6   first                  1296675 non-null  object \n",
            " 7   last                   1296675 non-null  object \n",
            " 8   gender                 1296675 non-null  object \n",
            " 9   street                 1296675 non-null  object \n",
            " 10  city                   1296675 non-null  object \n",
            " 11  state                  1296675 non-null  object \n",
            " 12  zip                    1296675 non-null  int64  \n",
            " 13  lat                    1296675 non-null  float64\n",
            " 14  long                   1296675 non-null  float64\n",
            " 15  city_pop               1296675 non-null  int64  \n",
            " 16  job                    1296675 non-null  object \n",
            " 17  dob                    1296675 non-null  object \n",
            " 18  trans_num              1296675 non-null  object \n",
            " 19  unix_time              1296675 non-null  int64  \n",
            " 20  merch_lat              1296675 non-null  float64\n",
            " 21  merch_long             1296675 non-null  float64\n",
            " 22  is_fraud               1296675 non-null  int64  \n",
            " 23  merch_zipcode          1100702 non-null  float64\n",
            "dtypes: float64(6), int64(6), object(12)\n",
            "memory usage: 237.4+ MB\n"
          ]
        }
      ]
    },
    {
      "cell_type": "markdown",
      "source": [
        "Checking for Duplicate Values in the Dataset"
      ],
      "metadata": {
        "id": "iJCs49n9BdtA"
      }
    },
    {
      "cell_type": "code",
      "source": [
        "duplicate_data_rows = len(dataset[dataset.duplicated()])\n",
        "print(duplicate_data_rows)\n",
        "\n",
        "# indicates there is no duplicate row present in the dataset, ebery row is unique with the unique data itself"
      ],
      "metadata": {
        "colab": {
          "base_uri": "https://localhost:8080/"
        },
        "id": "QHUOLeLIBbr6",
        "outputId": "e1680542-f1c3-45c3-c80c-cd41e7802fee"
      },
      "execution_count": 10,
      "outputs": [
        {
          "output_type": "stream",
          "name": "stdout",
          "text": [
            "0\n"
          ]
        }
      ]
    },
    {
      "cell_type": "markdown",
      "source": [
        "Checking for Missing/Null Values\n"
      ],
      "metadata": {
        "id": "POU3_cvGBs8m"
      }
    },
    {
      "cell_type": "code",
      "source": [
        "missing_values = dataset.isnull().sum()\n",
        "print(\"\\nMissing Values in Each Column:\")\n",
        "print(missing_values)"
      ],
      "metadata": {
        "colab": {
          "base_uri": "https://localhost:8080/"
        },
        "id": "fzqG3X2BBt-u",
        "outputId": "3cd177e3-1cb4-4051-ce68-88868111d2fd"
      },
      "execution_count": 11,
      "outputs": [
        {
          "output_type": "stream",
          "name": "stdout",
          "text": [
            "\n",
            "Missing Values in Each Column:\n",
            "Unnamed: 0                    0\n",
            "trans_date_trans_time         0\n",
            "cc_num                        0\n",
            "merchant                      0\n",
            "category                      0\n",
            "amt                           0\n",
            "first                         0\n",
            "last                          0\n",
            "gender                        0\n",
            "street                        0\n",
            "city                          0\n",
            "state                         0\n",
            "zip                           0\n",
            "lat                           0\n",
            "long                          0\n",
            "city_pop                      0\n",
            "job                           0\n",
            "dob                           0\n",
            "trans_num                     0\n",
            "unix_time                     0\n",
            "merch_lat                     0\n",
            "merch_long                    0\n",
            "is_fraud                      0\n",
            "merch_zipcode            195973\n",
            "dtype: int64\n"
          ]
        }
      ]
    },
    {
      "cell_type": "markdown",
      "source": [
        "Percentage of missing values"
      ],
      "metadata": {
        "id": "LAFEerB5B395"
      }
    },
    {
      "cell_type": "code",
      "source": [
        "missing_percent = (missing_values/len(dataset)) * 100\n",
        "print(\"\\n Percentage of missing values: \")\n",
        "print(missing_percent)"
      ],
      "metadata": {
        "colab": {
          "base_uri": "https://localhost:8080/"
        },
        "id": "h48O2t2hBlkv",
        "outputId": "4ef232d6-27ec-43f2-8224-a02407ed3096"
      },
      "execution_count": 12,
      "outputs": [
        {
          "output_type": "stream",
          "name": "stdout",
          "text": [
            "\n",
            " Percentage of missing values: \n",
            "Unnamed: 0                0.000000\n",
            "trans_date_trans_time     0.000000\n",
            "cc_num                    0.000000\n",
            "merchant                  0.000000\n",
            "category                  0.000000\n",
            "amt                       0.000000\n",
            "first                     0.000000\n",
            "last                      0.000000\n",
            "gender                    0.000000\n",
            "street                    0.000000\n",
            "city                      0.000000\n",
            "state                     0.000000\n",
            "zip                       0.000000\n",
            "lat                       0.000000\n",
            "long                      0.000000\n",
            "city_pop                  0.000000\n",
            "job                       0.000000\n",
            "dob                       0.000000\n",
            "trans_num                 0.000000\n",
            "unix_time                 0.000000\n",
            "merch_lat                 0.000000\n",
            "merch_long                0.000000\n",
            "is_fraud                  0.000000\n",
            "merch_zipcode            15.113502\n",
            "dtype: float64\n"
          ]
        }
      ]
    },
    {
      "cell_type": "markdown",
      "source": [
        "Visualizing the missing values"
      ],
      "metadata": {
        "id": "5-nC6zy8CHB0"
      }
    },
    {
      "cell_type": "code",
      "source": [
        "plt.figure(figsize=(16,8))\n",
        "sns.heatmap(dataset.isnull(), cbar=False, cmap=\"YlGnBu\", yticklabels=False)\n",
        "plt.title(\"Heatmap of missing values in dataset\")\n",
        "plt.xlabel(\"Columns\")\n",
        "plt.ylabel(\"Records\")\n",
        "plt.show()"
      ],
      "metadata": {
        "colab": {
          "base_uri": "https://localhost:8080/",
          "height": 859
        },
        "id": "3_1w7kNxCFnu",
        "outputId": "6ab6a228-d715-42d2-bed6-f95366cf5095"
      },
      "execution_count": 13,
      "outputs": [
        {
          "output_type": "display_data",
          "data": {
            "text/plain": [
              "<Figure size 1600x800 with 1 Axes>"
            ],
            "image/png": "[encoded data removed]"
          },
          "metadata": {}
        }
      ]
    },
    {
      "cell_type": "markdown",
      "source": [
        "Summary of Dataset Observations\n"
      ],
      "metadata": {
        "id": "AjfZrGXzCFQB"
      }
    },
    {
      "cell_type": "code",
      "source": [
        "print(\"\\nObservations About the Dataset:\")\n",
        "if duplicate_data_rows > 0:\n",
        "    print(f\"- There are {duplicate_data_rows} duplicate rows in the dataset.\")\n",
        "else:\n",
        "    print(\"- No duplicate rows found in the dataset.\")\n",
        "\n",
        "if missing_values.sum() > 0:\n",
        "    print(\"- There are missing values in the dataset. Here’s a summary:\")\n",
        "    print(missing_values[missing_values > 0])\n",
        "else:\n",
        "    print(\"- No missing values found in the dataset.\")\n",
        "\n",
        "print(\"- The dataset is ready for further analysis after handling duplicates and missing values.\")"
      ],
      "metadata": {
        "colab": {
          "base_uri": "https://localhost:8080/"
        },
        "id": "zF7xIjBhCkJA",
        "outputId": "b336c227-b57c-4470-e4c8-376e3944ee2c"
      },
      "execution_count": 14,
      "outputs": [
        {
          "output_type": "stream",
          "name": "stdout",
          "text": [
            "\n",
            "Observations About the Dataset:\n",
            "- No duplicate rows found in the dataset.\n",
            "- There are missing values in the dataset. Here’s a summary:\n",
            "merch_zipcode    195973\n",
            "dtype: int64\n",
            "- The dataset is ready for further analysis after handling duplicates and missing values.\n"
          ]
        }
      ]
    },
    {
      "cell_type": "markdown",
      "source": [
        "## 2. Data Types"
      ],
      "metadata": {
        "id": "gdfLbPH_Ctry"
      }
    },
    {
      "cell_type": "code",
      "source": [
        "# Dataset Columns\n",
        "print(\"Dataset Columns:\")\n",
        "print(dataset.columns)"
      ],
      "metadata": {
        "colab": {
          "base_uri": "https://localhost:8080/"
        },
        "id": "BfXjRJMICutO",
        "outputId": "96539abc-54ac-4bb6-d7d3-96f62cec91fd"
      },
      "execution_count": 15,
      "outputs": [
        {
          "output_type": "stream",
          "name": "stdout",
          "text": [
            "Dataset Columns:\n",
            "Index(['Unnamed: 0', 'trans_date_trans_time', 'cc_num', 'merchant', 'category',\n",
            "       'amt', 'first', 'last', 'gender', 'street', 'city', 'state', 'zip',\n",
            "       'lat', 'long', 'city_pop', 'job', 'dob', 'trans_num', 'unix_time',\n",
            "       'merch_lat', 'merch_long', 'is_fraud', 'merch_zipcode'],\n",
            "      dtype='object')\n"
          ]
        }
      ]
    },
    {
      "cell_type": "code",
      "source": [
        "# Dataset Describe\n",
        "print(\"\\nDataset Summary Statistics:\")\n",
        "print(dataset.describe(include='all'))"
      ],
      "metadata": {
        "colab": {
          "base_uri": "https://localhost:8080/"
        },
        "id": "0qPQ51axC31X",
        "outputId": "73ae6b1a-fc89-4000-ac93-7182f75881a9"
      },
      "execution_count": 16,
      "outputs": [
        {
          "output_type": "stream",
          "name": "stdout",
          "text": [
            "\n",
            "Dataset Summary Statistics:\n",
            "          Unnamed: 0 trans_date_trans_time        cc_num           merchant  \\\n",
            "count   1.296675e+06               1296675  1.296675e+06            1296675   \n",
            "unique           NaN               1274791           NaN                693   \n",
            "top              NaN   2019-04-22 16:02:01           NaN  fraud_Kilback LLC   \n",
            "freq             NaN                     4           NaN               4403   \n",
            "mean    6.483370e+05                   NaN  4.171920e+17                NaN   \n",
            "std     3.743180e+05                   NaN  1.308806e+18                NaN   \n",
            "min     0.000000e+00                   NaN  6.041621e+10                NaN   \n",
            "25%     3.241685e+05                   NaN  1.800429e+14                NaN   \n",
            "50%     6.483370e+05                   NaN  3.521417e+15                NaN   \n",
            "75%     9.725055e+05                   NaN  4.642255e+15                NaN   \n",
            "max     1.296674e+06                   NaN  4.992346e+18                NaN   \n",
            "\n",
            "             category           amt        first     last   gender  \\\n",
            "count         1296675  1.296675e+06      1296675  1296675  1296675   \n",
            "unique             14           NaN          352      481        2   \n",
            "top     gas_transport           NaN  Christopher    Smith        F   \n",
            "freq           131659           NaN        26669    28794   709863   \n",
            "mean              NaN  7.035104e+01          NaN      NaN      NaN   \n",
            "std               NaN  1.603160e+02          NaN      NaN      NaN   \n",
            "min               NaN  1.000000e+00          NaN      NaN      NaN   \n",
            "25%               NaN  9.650000e+00          NaN      NaN      NaN   \n",
            "50%               NaN  4.752000e+01          NaN      NaN      NaN   \n",
            "75%               NaN  8.314000e+01          NaN      NaN      NaN   \n",
            "max               NaN  2.894890e+04          NaN      NaN      NaN   \n",
            "\n",
            "                     street  ...          long      city_pop  \\\n",
            "count               1296675  ...  1.296675e+06  1.296675e+06   \n",
            "unique                  983  ...           NaN           NaN   \n",
            "top     864 Reynolds Plains  ...           NaN           NaN   \n",
            "freq                   3123  ...           NaN           NaN   \n",
            "mean                    NaN  ... -9.022634e+01  8.882444e+04   \n",
            "std                     NaN  ...  1.375908e+01  3.019564e+05   \n",
            "min                     NaN  ... -1.656723e+02  2.300000e+01   \n",
            "25%                     NaN  ... -9.679800e+01  7.430000e+02   \n",
            "50%                     NaN  ... -8.747690e+01  2.456000e+03   \n",
            "75%                     NaN  ... -8.015800e+01  2.032800e+04   \n",
            "max                     NaN  ... -6.795030e+01  2.906700e+06   \n",
            "\n",
            "                      job         dob                         trans_num  \\\n",
            "count             1296675     1296675                           1296675   \n",
            "unique                494         968                           1296675   \n",
            "top     Film/video editor  1977-03-23  8f7c8e4ab7f25875d753b422917c98c9   \n",
            "freq                 9779        5636                                 1   \n",
            "mean                  NaN         NaN                               NaN   \n",
            "std                   NaN         NaN                               NaN   \n",
            "min                   NaN         NaN                               NaN   \n",
            "25%                   NaN         NaN                               NaN   \n",
            "50%                   NaN         NaN                               NaN   \n",
            "75%                   NaN         NaN                               NaN   \n",
            "max                   NaN         NaN                               NaN   \n",
            "\n",
            "           unix_time     merch_lat    merch_long      is_fraud  merch_zipcode  \n",
            "count   1.296675e+06  1.296675e+06  1.296675e+06  1.296675e+06   1.100702e+06  \n",
            "unique           NaN           NaN           NaN           NaN            NaN  \n",
            "top              NaN           NaN           NaN           NaN            NaN  \n",
            "freq             NaN           NaN           NaN           NaN            NaN  \n",
            "mean    1.349244e+09  3.853734e+01 -9.022646e+01  5.788652e-03   4.682575e+04  \n",
            "std     1.284128e+07  5.109788e+00  1.377109e+01  7.586269e-02   2.583400e+04  \n",
            "min     1.325376e+09  1.902779e+01 -1.666712e+02  0.000000e+00   1.001000e+03  \n",
            "25%     1.338751e+09  3.473357e+01 -9.689728e+01  0.000000e+00   2.511400e+04  \n",
            "50%     1.349250e+09  3.936568e+01 -8.743839e+01  0.000000e+00   4.586000e+04  \n",
            "75%     1.359385e+09  4.195716e+01 -8.023680e+01  0.000000e+00   6.831900e+04  \n",
            "max     1.371817e+09  6.751027e+01 -6.695090e+01  1.000000e+00   9.940300e+04  \n",
            "\n",
            "[11 rows x 24 columns]\n"
          ]
        }
      ]
    },
    {
      "cell_type": "markdown",
      "source": [
        "## Unique Values for Each Variable"
      ],
      "metadata": {
        "id": "90YcknXtDG27"
      }
    },
    {
      "cell_type": "code",
      "source": [
        "print(\"\\n### Unique Values for Each Variable ###\")\n",
        "for column in dataset.columns.tolist():\n",
        "    print(f\"No. of unique values in {column}: {dataset[column].nunique()}.\")"
      ],
      "metadata": {
        "colab": {
          "base_uri": "https://localhost:8080/"
        },
        "id": "CzaPwUlyC_e3",
        "outputId": "0b3712d1-8061-471b-b886-c323c340c145"
      },
      "execution_count": 17,
      "outputs": [
        {
          "output_type": "stream",
          "name": "stdout",
          "text": [
            "\n",
            "### Unique Values for Each Variable ###\n",
            "No. of unique values in Unnamed: 0: 1296675.\n",
            "No. of unique values in trans_date_trans_time: 1274791.\n",
            "No. of unique values in cc_num: 983.\n",
            "No. of unique values in merchant: 693.\n",
            "No. of unique values in category: 14.\n",
            "No. of unique values in amt: 52928.\n",
            "No. of unique values in first: 352.\n",
            "No. of unique values in last: 481.\n",
            "No. of unique values in gender: 2.\n",
            "No. of unique values in street: 983.\n",
            "No. of unique values in city: 894.\n",
            "No. of unique values in state: 51.\n",
            "No. of unique values in zip: 970.\n",
            "No. of unique values in lat: 968.\n",
            "No. of unique values in long: 969.\n",
            "No. of unique values in city_pop: 879.\n",
            "No. of unique values in job: 494.\n",
            "No. of unique values in dob: 968.\n",
            "No. of unique values in trans_num: 1296675.\n",
            "No. of unique values in unix_time: 1274823.\n",
            "No. of unique values in merch_lat: 1247805.\n",
            "No. of unique values in merch_long: 1275745.\n",
            "No. of unique values in is_fraud: 2.\n",
            "No. of unique values in merch_zipcode: 28336.\n"
          ]
        }
      ]
    },
    {
      "cell_type": "markdown",
      "source": [
        "## 3. DATA WRANGLING"
      ],
      "metadata": {
        "id": "pShFW0laDZHi"
      }
    },
    {
      "cell_type": "markdown",
      "source": [
        "Data Wrangling Code"
      ],
      "metadata": {
        "id": "TCqegSfvDezq"
      }
    },
    {
      "cell_type": "code",
      "source": [
        "# Copying the dataset for analysis\n",
        "df = dataset.copy()"
      ],
      "metadata": {
        "id": "1hwEqbUvDVff"
      },
      "execution_count": 18,
      "outputs": []
    },
    {
      "cell_type": "code",
      "source": [
        "# Checking basic stats\n",
        "print(\"Shape:\", df.shape)\n",
        "print(\"Column Names:\", df.columns)\n",
        "print(\"\\nMissing Values:\\n\", df.isnull().sum())\n",
        "print(\"\\nData Types:\\n\", df.dtypes)\n"
      ],
      "metadata": {
        "colab": {
          "base_uri": "https://localhost:8080/"
        },
        "id": "LGCh-8lfDlbP",
        "outputId": "175cb530-b7b4-4933-d315-1b707a78ab95"
      },
      "execution_count": 19,
      "outputs": [
        {
          "output_type": "stream",
          "name": "stdout",
          "text": [
            "Shape: (1296675, 24)\n",
            "Column Names: Index(['Unnamed: 0', 'trans_date_trans_time', 'cc_num', 'merchant', 'category',\n",
            "       'amt', 'first', 'last', 'gender', 'street', 'city', 'state', 'zip',\n",
            "       'lat', 'long', 'city_pop', 'job', 'dob', 'trans_num', 'unix_time',\n",
            "       'merch_lat', 'merch_long', 'is_fraud', 'merch_zipcode'],\n",
            "      dtype='object')\n",
            "\n",
            "Missing Values:\n",
            " Unnamed: 0                    0\n",
            "trans_date_trans_time         0\n",
            "cc_num                        0\n",
            "merchant                      0\n",
            "category                      0\n",
            "amt                           0\n",
            "first                         0\n",
            "last                          0\n",
            "gender                        0\n",
            "street                        0\n",
            "city                          0\n",
            "state                         0\n",
            "zip                           0\n",
            "lat                           0\n",
            "long                          0\n",
            "city_pop                      0\n",
            "job                           0\n",
            "dob                           0\n",
            "trans_num                     0\n",
            "unix_time                     0\n",
            "merch_lat                     0\n",
            "merch_long                    0\n",
            "is_fraud                      0\n",
            "merch_zipcode            195973\n",
            "dtype: int64\n",
            "\n",
            "Data Types:\n",
            " Unnamed: 0                 int64\n",
            "trans_date_trans_time     object\n",
            "cc_num                     int64\n",
            "merchant                  object\n",
            "category                  object\n",
            "amt                      float64\n",
            "first                     object\n",
            "last                      object\n",
            "gender                    object\n",
            "street                    object\n",
            "city                      object\n",
            "state                     object\n",
            "zip                        int64\n",
            "lat                      float64\n",
            "long                     float64\n",
            "city_pop                   int64\n",
            "job                       object\n",
            "dob                       object\n",
            "trans_num                 object\n",
            "unix_time                  int64\n",
            "merch_lat                float64\n",
            "merch_long               float64\n",
            "is_fraud                   int64\n",
            "merch_zipcode            float64\n",
            "dtype: object\n"
          ]
        }
      ]
    },
    {
      "cell_type": "code",
      "source": [
        "# 1. average number of transactions and total spending per customer\n",
        "\n",
        "# Group by customer_id and aggregate\n",
        "customer_summary = df.groupby('cc_num').agg(\n",
        "    total_transactions=('trans_num', 'count'),\n",
        "    total_spent=('amt', 'sum')\n",
        ").reset_index()\n",
        "\n",
        "# Calculate average across all customers\n",
        "avg_transactions = customer_summary['total_transactions'].mean()\n",
        "avg_spent = customer_summary['total_spent'].mean()\n",
        "\n",
        "# Display the results\n",
        "print(f\" Average number of transactions per customer: {avg_transactions:.2f}\")\n",
        "print(f\" Average total spending per customer: ${avg_spent:.2f}\")"
      ],
      "metadata": {
        "colab": {
          "base_uri": "https://localhost:8080/"
        },
        "id": "kQcw9ggtEAry",
        "outputId": "08964bbe-850f-4f49-e4d3-6b6108910bb0"
      },
      "execution_count": 20,
      "outputs": [
        {
          "output_type": "stream",
          "name": "stdout",
          "text": [
            " Average number of transactions per customer: 1319.10\n",
            " Average total spending per customer: $92800.03\n"
          ]
        }
      ]
    },
    {
      "cell_type": "code",
      "source": [
        "# 2. Time-Based Transaction Trend Analysis (Monthly, Daily, Hourly, Weekly)\n",
        "\n",
        "df['trans_date_trans_time'] = pd.to_datetime(df['trans_date_trans_time'], dayfirst=True, errors='coerce')\n",
        "df['trans_month'] = df['trans_date_trans_time'].dt.month\n",
        "df['trans_day'] = df['trans_date_trans_time'].dt.day\n",
        "df['trans_hour'] = df['trans_date_trans_time'].dt.hour\n",
        "df['trans_weekday'] = df['trans_date_trans_time'].dt.day_name()\n",
        "\n",
        "# Monthly trend\n",
        "monthly_txn = df['trans_month'].value_counts().sort_index()\n",
        "\n",
        "# Daily trend (within month)\n",
        "daily_txn = df['trans_day'].value_counts().sort_index()\n",
        "\n",
        "# Hourly trend\n",
        "hourly_txn = df['trans_hour'].value_counts().sort_index()\n",
        "\n",
        "# Day of week trend\n",
        "weekday_txn = df['trans_weekday'].value_counts().reindex([\n",
        "    'Monday', 'Tuesday', 'Wednesday', 'Thursday', 'Friday', 'Saturday', 'Sunday'\n",
        "])\n",
        "\n",
        "print(\" Monthly Transaction Trend:\\n\", monthly_txn)\n",
        "print(\"\\n Daily Transaction Trend (within month):\\n\", daily_txn)\n",
        "print(\"\\n Hourly Transaction Trend:\\n\", hourly_txn)\n",
        "print(\"\\n Day of Week Transaction Trend:\\n\", weekday_txn)\n",
        "\n",
        "# Summary:\n",
        "# This analysis breaks down transaction volume trends by month, day, hour, and weekday.\n",
        "# - Monthly: Fairly uniform; slight peaks in Jan and Aug.\n",
        "# - Daily: Transactions spike in the first week of the month (likely post-salary).\n",
        "# - Hourly: Peak activity during evening hours (5–11 PM), lowest in early morning.\n",
        "# - Weekday: Higher activity on weekdays (especially Monday & Thursday), dips on Saturday."
      ],
      "metadata": {
        "colab": {
          "base_uri": "https://localhost:8080/"
        },
        "id": "iZKMFXp4F-pj",
        "outputId": "2313001f-6430-4eab-9fa6-9d682ef69fde"
      },
      "execution_count": 22,
      "outputs": [
        {
          "output_type": "stream",
          "name": "stdout",
          "text": [
            " Monthly Transaction Trend:\n",
            " trans_month\n",
            "1.0     47089\n",
            "2.0     44748\n",
            "3.0     41842\n",
            "4.0     41479\n",
            "5.0     41886\n",
            "6.0     41420\n",
            "7.0     44239\n",
            "8.0     46201\n",
            "9.0     44685\n",
            "10.0    41934\n",
            "11.0    41423\n",
            "12.0    42001\n",
            "Name: count, dtype: int64\n",
            "\n",
            " Daily Transaction Trend (within month):\n",
            " trans_day\n",
            "1.0     40319\n",
            "2.0     42799\n",
            "3.0     56275\n",
            "4.0     51602\n",
            "5.0     55398\n",
            "6.0     68887\n",
            "7.0     32234\n",
            "8.0     35807\n",
            "9.0     27873\n",
            "10.0    25580\n",
            "11.0    28099\n",
            "12.0    54074\n",
            "Name: count, dtype: int64\n",
            "\n",
            " Hourly Transaction Trend:\n",
            " trans_hour\n",
            "0.0     17076\n",
            "1.0     17309\n",
            "2.0     16893\n",
            "3.0     17175\n",
            "4.0     16649\n",
            "5.0     16913\n",
            "6.0     16733\n",
            "7.0     16781\n",
            "8.0     16823\n",
            "9.0     16954\n",
            "10.0    16823\n",
            "11.0    16785\n",
            "12.0    26059\n",
            "13.0    26139\n",
            "14.0    25920\n",
            "15.0    26327\n",
            "16.0    26220\n",
            "17.0    26354\n",
            "18.0    26672\n",
            "19.0    26310\n",
            "20.0    26074\n",
            "21.0    26561\n",
            "22.0    26820\n",
            "23.0    26577\n",
            "Name: count, dtype: int64\n",
            "\n",
            " Day of Week Transaction Trend:\n",
            " trans_weekday\n",
            "Monday       79757\n",
            "Tuesday      72416\n",
            "Wednesday    71876\n",
            "Thursday     79332\n",
            "Friday       75364\n",
            "Saturday     64658\n",
            "Sunday       75544\n",
            "Name: count, dtype: int64\n"
          ]
        }
      ]
    },
    {
      "cell_type": "code",
      "source": [
        "#3. Category-wise Spending Behavior on Weekdays vs Weekends\n",
        "\n",
        "df['trans_date_trans_time'] = pd.to_datetime(df['trans_date_trans_time'])\n",
        "df['day_of_week'] = df['trans_date_trans_time'].dt.dayofweek\n",
        "df['day_type'] = df['day_of_week'].apply(lambda x: 'Weekend' if x >= 5 else 'Weekday')\n",
        "category_spend = df.groupby(['day_type', 'category'])['amt'].sum().reset_index()\n",
        "print(category_spend)\n",
        "\n",
        "\n",
        "\n",
        "# Summary:\n",
        "# Weekday spending is significantly higher across all categories compared to weekends.\n",
        "# Top spending categories on weekdays include grocery_pos, gas_transport, and shopping.\n",
        "# Weekend spending is lower but shows relatively higher shares in entertainment, travel, and personal care.\n",
        "# Indicates that routine and necessity spending dominates weekdays, while leisure-related spending is more common on weekends."
      ],
      "metadata": {
        "colab": {
          "base_uri": "https://localhost:8080/"
        },
        "id": "ZQE_oxwzkZ9-",
        "outputId": "d97b90f6-9bcc-4ef7-8fbc-d516f13f6461"
      },
      "execution_count": 23,
      "outputs": [
        {
          "output_type": "stream",
          "name": "stdout",
          "text": [
            "   day_type        category          amt\n",
            "0   Weekday   entertainment   5380636.79\n",
            "1   Weekday     food_dining   4164865.46\n",
            "2   Weekday   gas_transport   7455363.35\n",
            "3   Weekday     grocery_net   2173426.18\n",
            "4   Weekday     grocery_pos  12919997.59\n",
            "5   Weekday  health_fitness   4151076.07\n",
            "6   Weekday            home   6392477.87\n",
            "7   Weekday       kids_pets   5796736.31\n",
            "8   Weekday        misc_net   4557954.13\n",
            "9   Weekday        misc_pos   4467640.70\n",
            "10  Weekday   personal_care   3882089.55\n",
            "11  Weekday    shopping_net   7713162.47\n",
            "12  Weekday    shopping_pos   8295383.33\n",
            "13  Weekday          travel   4009245.64\n",
            "14  Weekend   entertainment    656041.77\n",
            "15  Weekend     food_dining    507593.98\n",
            "16  Weekend   gas_transport    896368.94\n",
            "17  Weekend     grocery_net    265986.50\n",
            "18  Weekend     grocery_pos   1540824.79\n",
            "19  Weekend  health_fitness    502031.95\n",
            "20  Weekend            home    781450.24\n",
            "21  Weekend       kids_pets    706943.85\n",
            "22  Weekend        misc_net    559755.13\n",
            "23  Weekend        misc_pos    541941.80\n",
            "24  Weekend   personal_care    471360.98\n",
            "25  Weekend    shopping_net    911987.21\n",
            "26  Weekend    shopping_pos   1012610.28\n",
            "27  Weekend          travel    507476.04\n"
          ]
        }
      ]
    },
    {
      "cell_type": "code",
      "source": [
        "avg_amt_gender = df.groupby('gender')['amt'].mean().reset_index().sort_values('amt', ascending=False)\n",
        "print(avg_amt_gender)"
      ],
      "metadata": {
        "colab": {
          "base_uri": "https://localhost:8080/"
        },
        "id": "c4bzJHaIkZca",
        "outputId": "5a814eb0-9b98-4398-fb6b-be279823aed2"
      },
      "execution_count": 24,
      "outputs": [
        {
          "output_type": "stream",
          "name": "stdout",
          "text": [
            "  gender        amt\n",
            "1      M  70.533350\n",
            "0      F  70.200324\n"
          ]
        }
      ]
    },
    {
      "cell_type": "code",
      "source": [
        "# 4. Group by category: total spend and transaction count\n",
        "\n",
        "category_summary = df.groupby('category').agg(\n",
        "    total_spent=('amt', 'sum'),\n",
        "    transaction_count=('category', 'count')\n",
        ").reset_index()\n",
        "\n",
        "# Sort by total spend (descending)\n",
        "top_by_spend = category_summary.sort_values(by='total_spent', ascending=False)\n",
        "\n",
        "# Sort by transaction count (descending)\n",
        "top_by_count = category_summary.sort_values(by='transaction_count', ascending=False)\n",
        "\n",
        "print(\" Top Categories by Total Spend:\\n\", top_by_spend.head(10))\n",
        "print(\"\\n Top Categories by Transaction Count:\\n\", top_by_count.head(10))\n",
        "\n",
        "\n",
        "# Summary:\n",
        "# Analysis highlights top transaction categories by spend and frequency.\n",
        "# - Grocery POS ranks highest in total spend and is 2nd in frequency, indicating essential, high-volume use.\n",
        "# - Gas Transport has the most transactions but lower spend per txn — good for loyalty/cashback offers.\n",
        "# - Shopping (POS/Net), Home, and Kids & Pets also show high engagement, suitable for targeted promotions.\n"
      ],
      "metadata": {
        "colab": {
          "base_uri": "https://localhost:8080/"
        },
        "id": "ZUkgrchnlw-Q",
        "outputId": "5631fdb4-4c07-4f43-e0a6-4bdc7146d700"
      },
      "execution_count": 25,
      "outputs": [
        {
          "output_type": "stream",
          "name": "stdout",
          "text": [
            " Top Categories by Total Spend:\n",
            "          category  total_spent  transaction_count\n",
            "4     grocery_pos  14460822.38             123638\n",
            "12   shopping_pos   9307993.61             116672\n",
            "11   shopping_net   8625149.68              97543\n",
            "2   gas_transport   8351732.29             131659\n",
            "6            home   7173928.11             123115\n",
            "7       kids_pets   6503680.16             113035\n",
            "0   entertainment   6036678.56              94014\n",
            "8        misc_net   5117709.26              63287\n",
            "9        misc_pos   5009582.50              79655\n",
            "1     food_dining   4672459.44              91461\n",
            "\n",
            " Top Categories by Transaction Count:\n",
            "           category  total_spent  transaction_count\n",
            "2    gas_transport   8351732.29             131659\n",
            "4      grocery_pos  14460822.38             123638\n",
            "6             home   7173928.11             123115\n",
            "12    shopping_pos   9307993.61             116672\n",
            "7        kids_pets   6503680.16             113035\n",
            "11    shopping_net   8625149.68              97543\n",
            "0    entertainment   6036678.56              94014\n",
            "1      food_dining   4672459.44              91461\n",
            "10   personal_care   4353450.53              90758\n",
            "5   health_fitness   4653108.02              85879\n"
          ]
        }
      ]
    },
    {
      "cell_type": "code",
      "source": [
        "# Calculate frequency and total spend per customer (based on cc_num)\n",
        "\n",
        "# Convert date column to datetime\n",
        "df['trans_date_trans_time'] = pd.to_datetime(df['trans_date_trans_time'])\n",
        "\n",
        "# Set the reference date (latest transaction date + 1 day)\n",
        "reference_date = df['trans_date_trans_time'].max() + pd.Timedelta(days=1)\n",
        "\n",
        "rfm = df.groupby('cc_num').agg(\n",
        "    recency = ('trans_date_trans_time', lambda x: (reference_date - x.max()).days),\n",
        "    frequency = ('trans_num', 'count'),\n",
        "    monetary = ('amt', 'sum')\n",
        ").reset_index()\n",
        "\n",
        "rfm.head(60)\n",
        "\n",
        "\n",
        "# Summary:\n",
        "# RFM (Recency, Frequency, Monetary) analysis performed per customer (cc_num).\n",
        "# - Identifies top customers based on recent, frequent, and high-spending behavior.\n",
        "# - Low-frequency or NaN recency cases may indicate inactive or erroneous records.\n",
        "# - RFM can guide segmentation, retention, and personalized marketing strategies.\n",
        "\n",
        "# Key Insights:\n",
        "# - Most customers have a recency of 1 day, showing high recent engagement; a few have 2–3 days, and one is inactive (493 days).\n",
        "# - Transaction frequency ranges widely — some customers made over 3,000 transactions, while others made fewer than 20.\n",
        "# - Spend also varies: top customers spent over ₹200K, while lower-end users spent under ₹5K.\n",
        "# - A small group of high-frequency, high-spend users drive most of the value.\n",
        "# - Some low-frequency or inactive customers may need re-engagement.\n",
        "\n",
        "# Conclusion: The user base is highly active, with a few high-value users contributing disproportionately to revenue."
      ],
      "metadata": {
        "colab": {
          "base_uri": "https://localhost:8080/",
          "height": 1000
        },
        "id": "sc_iuRVTmMGr",
        "outputId": "8e45f2ff-a0ec-4ab8-8684-9bf83eb2e3c4"
      },
      "execution_count": 26,
      "outputs": [
        {
          "output_type": "execute_result",
          "data": {
            "text/plain": [
              "          cc_num  recency  frequency   monetary\n",
              "0    60416207185      1.0       1518   85043.47\n",
              "1    60422928733      1.0       1531  105640.20\n",
              "2    60423098130      2.0        510   58673.63\n",
              "3    60427851591      2.0        528   59129.61\n",
              "4    60487002085      1.0        496   25160.11\n",
              "5    60490596305      1.0       1010   73531.44\n",
              "6    60495593109      1.0        518   29523.69\n",
              "7   501802953619      1.0       1559  105725.56\n",
              "8   501818133297      NaN          8    4946.54\n",
              "9   501828204849      2.0        515   37041.66\n",
              "10  501831082224      2.0       1026   62874.97\n",
              "11  501851115094      NaN         15    6467.81\n",
              "12  501882822387      1.0        506   33222.23\n",
              "13  501894933032      NaN          7    3741.75\n",
              "14  501899453424      1.0       1520   99202.86\n",
              "15  502012776709      1.0       2001  127686.60\n",
              "16  502038091380      1.0       1574  145935.23\n",
              "17  502049568400      1.0       1032   71884.75\n",
              "18  503848303379      1.0       1549   99595.92\n",
              "19  503874407318      1.0       2565  156604.70\n",
              "20  503886119844      NaN          9    6319.63\n",
              "21  560881134780      1.0        512   36423.63\n",
              "22  561942763351      3.0       1563  139910.23\n",
              "23  565399283797      1.0        521   53662.05\n",
              "24  567868110212      1.0       2558  213039.80\n",
              "25  568279015842      1.0       1070   97101.83\n",
              "26  570273151375      1.0        509   29003.12\n",
              "27  571314334723      1.0        510   32200.93\n",
              "28  571365235126      1.0       3123  191918.03\n",
              "29  571465035400      1.0       2009  184945.60\n",
              "30  571844099986      1.0       1542   99329.33\n",
              "31  573283817795      1.0        533   32073.66\n",
              "32  573860193545      2.0       2092  123801.12\n",
              "33  577588686219      1.0       1494  104313.80\n",
              "34  577891228931    493.0         12    8789.74\n",
              "35  580954173374      1.0       1034   65300.62\n",
              "36  581293083266      1.0       1559  155847.00\n",
              "37  581508178315      1.0        503   48899.14\n",
              "38  581686439828      1.0       2552  144016.04\n",
              "39  583699482621      1.0       1505  100972.57\n",
              "40  584673555952      1.0       2036  125572.94\n",
              "41  630412733309      2.0        516   30268.27\n",
              "42  630423337322      1.0       3030  163466.44\n",
              "43  630424987505      1.0       3099  179584.45\n",
              "44  630425673344      2.0       1562  111329.77\n",
              "45  630441765090      1.0       2023  138146.56\n",
              "46  630451534402      1.0       3074  190975.99\n",
              "47  630469040731      1.0       2047  124645.52\n",
              "48  630471368021      1.0        529   53668.33\n",
              "49  630484879808      1.0       2003  188061.88\n",
              "50  639023984367      1.0       2562  156000.51\n",
              "51  639030014711      1.0       1033   94721.85\n",
              "52  639046421587      1.0       1003   91754.31\n",
              "53  639077309909      2.0        505   32840.17\n",
              "54  639095706599      1.0        538   35815.45\n",
              "55  675909898057      1.0       1017   98422.99\n",
              "56  675945690716      1.0       1570   95650.37\n",
              "57  675961917837      2.0        540   47073.26\n",
              "58  675990301623      1.0       2042  112762.00\n",
              "59  676102124465      1.0       2091  187586.22"
            ],
            "text/html": [
              "\n",
              "  <div id=\"df-3a0436d1-42a8-4323-aaa0-aef60f66b1fe\" class=\"colab-df-container\">\n",
              "    <div>\n",
              "<style scoped>\n",
              "    .dataframe tbody tr th:only-of-type {\n",
              "        vertical-align: middle;\n",
              "    }\n",
              "\n",
              "    .dataframe tbody tr th {\n",
              "        vertical-align: top;\n",
              "    }\n",
              "\n",
              "    .dataframe thead th {\n",
              "        text-align: right;\n",
              "    }\n",
              "</style>\n",
              "<table border=\"1\" class=\"dataframe\">\n",
              "  <thead>\n",
              "    <tr style=\"text-align: right;\">\n",
              "      <th></th>\n",
              "      <th>cc_num</th>\n",
              "      <th>recency</th>\n",
              "      <th>frequency</th>\n",
              "      <th>monetary</th>\n",
              "    </tr>\n",
              "  </thead>\n",
              "  <tbody>\n",
              "    <tr>\n",
              "      <th>0</th>\n",
              "      <td>60416207185</td>\n",
              "      <td>1.0</td>\n",
              "      <td>1518</td>\n",
              "      <td>85043.47</td>\n",
              "    </tr>\n",
              "    <tr>\n",
              "      <th>1</th>\n",
              "      <td>60422928733</td>\n",
              "      <td>1.0</td>\n",
              "      <td>1531</td>\n",
              "      <td>105640.20</td>\n",
              "    </tr>\n",
              "    <tr>\n",
              "      <th>2</th>\n",
              "      <td>60423098130</td>\n",
              "      <td>2.0</td>\n",
              "      <td>510</td>\n",
              "      <td>58673.63</td>\n",
              "    </tr>\n",
              "    <tr>\n",
              "      <th>3</th>\n",
              "      <td>60427851591</td>\n",
              "      <td>2.0</td>\n",
              "      <td>528</td>\n",
              "      <td>59129.61</td>\n",
              "    </tr>\n",
              "    <tr>\n",
              "      <th>4</th>\n",
              "      <td>60487002085</td>\n",
              "      <td>1.0</td>\n",
              "      <td>496</td>\n",
              "      <td>25160.11</td>\n",
              "    </tr>\n",
              "    <tr>\n",
              "      <th>5</th>\n",
              "      <td>60490596305</td>\n",
              "      <td>1.0</td>\n",
              "      <td>1010</td>\n",
              "      <td>73531.44</td>\n",
              "    </tr>\n",
              "    <tr>\n",
              "      <th>6</th>\n",
              "      <td>60495593109</td>\n",
              "      <td>1.0</td>\n",
              "      <td>518</td>\n",
              "      <td>29523.69</td>\n",
              "    </tr>\n",
              "    <tr>\n",
              "      <th>7</th>\n",
              "      <td>501802953619</td>\n",
              "      <td>1.0</td>\n",
              "      <td>1559</td>\n",
              "      <td>105725.56</td>\n",
              "    </tr>\n",
              "    <tr>\n",
              "      <th>8</th>\n",
              "      <td>501818133297</td>\n",
              "      <td>NaN</td>\n",
              "      <td>8</td>\n",
              "      <td>4946.54</td>\n",
              "    </tr>\n",
              "    <tr>\n",
              "      <th>9</th>\n",
              "      <td>501828204849</td>\n",
              "      <td>2.0</td>\n",
              "      <td>515</td>\n",
              "      <td>37041.66</td>\n",
              "    </tr>\n",
              "    <tr>\n",
              "      <th>10</th>\n",
              "      <td>501831082224</td>\n",
              "      <td>2.0</td>\n",
              "      <td>1026</td>\n",
              "      <td>62874.97</td>\n",
              "    </tr>\n",
              "    <tr>\n",
              "      <th>11</th>\n",
              "      <td>501851115094</td>\n",
              "      <td>NaN</td>\n",
              "      <td>15</td>\n",
              "      <td>6467.81</td>\n",
              "    </tr>\n",
              "    <tr>\n",
              "      <th>12</th>\n",
              "      <td>501882822387</td>\n",
              "      <td>1.0</td>\n",
              "      <td>506</td>\n",
              "      <td>33222.23</td>\n",
              "    </tr>\n",
              "    <tr>\n",
              "      <th>13</th>\n",
              "      <td>501894933032</td>\n",
              "      <td>NaN</td>\n",
              "      <td>7</td>\n",
              "      <td>3741.75</td>\n",
              "    </tr>\n",
              "    <tr>\n",
              "      <th>14</th>\n",
              "      <td>501899453424</td>\n",
              "      <td>1.0</td>\n",
              "      <td>1520</td>\n",
              "      <td>99202.86</td>\n",
              "    </tr>\n",
              "    <tr>\n",
              "      <th>15</th>\n",
              "      <td>502012776709</td>\n",
              "      <td>1.0</td>\n",
              "      <td>2001</td>\n",
              "      <td>127686.60</td>\n",
              "    </tr>\n",
              "    <tr>\n",
              "      <th>16</th>\n",
              "      <td>502038091380</td>\n",
              "      <td>1.0</td>\n",
              "      <td>1574</td>\n",
              "      <td>145935.23</td>\n",
              "    </tr>\n",
              "    <tr>\n",
              "      <th>17</th>\n",
              "      <td>502049568400</td>\n",
              "      <td>1.0</td>\n",
              "      <td>1032</td>\n",
              "      <td>71884.75</td>\n",
              "    </tr>\n",
              "    <tr>\n",
              "      <th>18</th>\n",
              "      <td>503848303379</td>\n",
              "      <td>1.0</td>\n",
              "      <td>1549</td>\n",
              "      <td>99595.92</td>\n",
              "    </tr>\n",
              "    <tr>\n",
              "      <th>19</th>\n",
              "      <td>503874407318</td>\n",
              "      <td>1.0</td>\n",
              "      <td>2565</td>\n",
              "      <td>156604.70</td>\n",
              "    </tr>\n",
              "    <tr>\n",
              "      <th>20</th>\n",
              "      <td>503886119844</td>\n",
              "      <td>NaN</td>\n",
              "      <td>9</td>\n",
              "      <td>6319.63</td>\n",
              "    </tr>\n",
              "    <tr>\n",
              "      <th>21</th>\n",
              "      <td>560881134780</td>\n",
              "      <td>1.0</td>\n",
              "      <td>512</td>\n",
              "      <td>36423.63</td>\n",
              "    </tr>\n",
              "    <tr>\n",
              "      <th>22</th>\n",
              "      <td>561942763351</td>\n",
              "      <td>3.0</td>\n",
              "      <td>1563</td>\n",
              "      <td>139910.23</td>\n",
              "    </tr>\n",
              "    <tr>\n",
              "      <th>23</th>\n",
              "      <td>565399283797</td>\n",
              "      <td>1.0</td>\n",
              "      <td>521</td>\n",
              "      <td>53662.05</td>\n",
              "    </tr>\n",
              "    <tr>\n",
              "      <th>24</th>\n",
              "      <td>567868110212</td>\n",
              "      <td>1.0</td>\n",
              "      <td>2558</td>\n",
              "      <td>213039.80</td>\n",
              "    </tr>\n",
              "    <tr>\n",
              "      <th>25</th>\n",
              "      <td>568279015842</td>\n",
              "      <td>1.0</td>\n",
              "      <td>1070</td>\n",
              "      <td>97101.83</td>\n",
              "    </tr>\n",
              "    <tr>\n",
              "      <th>26</th>\n",
              "      <td>570273151375</td>\n",
              "      <td>1.0</td>\n",
              "      <td>509</td>\n",
              "      <td>29003.12</td>\n",
              "    </tr>\n",
              "    <tr>\n",
              "      <th>27</th>\n",
              "      <td>571314334723</td>\n",
              "      <td>1.0</td>\n",
              "      <td>510</td>\n",
              "      <td>32200.93</td>\n",
              "    </tr>\n",
              "    <tr>\n",
              "      <th>28</th>\n",
              "      <td>571365235126</td>\n",
              "      <td>1.0</td>\n",
              "      <td>3123</td>\n",
              "      <td>191918.03</td>\n",
              "    </tr>\n",
              "    <tr>\n",
              "      <th>29</th>\n",
              "      <td>571465035400</td>\n",
              "      <td>1.0</td>\n",
              "      <td>2009</td>\n",
              "      <td>184945.60</td>\n",
              "    </tr>\n",
              "    <tr>\n",
              "      <th>30</th>\n",
              "      <td>571844099986</td>\n",
              "      <td>1.0</td>\n",
              "      <td>1542</td>\n",
              "      <td>99329.33</td>\n",
              "    </tr>\n",
              "    <tr>\n",
              "      <th>31</th>\n",
              "      <td>573283817795</td>\n",
              "      <td>1.0</td>\n",
              "      <td>533</td>\n",
              "      <td>32073.66</td>\n",
              "    </tr>\n",
              "    <tr>\n",
              "      <th>32</th>\n",
              "      <td>573860193545</td>\n",
              "      <td>2.0</td>\n",
              "      <td>2092</td>\n",
              "      <td>123801.12</td>\n",
              "    </tr>\n",
              "    <tr>\n",
              "      <th>33</th>\n",
              "      <td>577588686219</td>\n",
              "      <td>1.0</td>\n",
              "      <td>1494</td>\n",
              "      <td>104313.80</td>\n",
              "    </tr>\n",
              "    <tr>\n",
              "      <th>34</th>\n",
              "      <td>577891228931</td>\n",
              "      <td>493.0</td>\n",
              "      <td>12</td>\n",
              "      <td>8789.74</td>\n",
              "    </tr>\n",
              "    <tr>\n",
              "      <th>35</th>\n",
              "      <td>580954173374</td>\n",
              "      <td>1.0</td>\n",
              "      <td>1034</td>\n",
              "      <td>65300.62</td>\n",
              "    </tr>\n",
              "    <tr>\n",
              "      <th>36</th>\n",
              "      <td>581293083266</td>\n",
              "      <td>1.0</td>\n",
              "      <td>1559</td>\n",
              "      <td>155847.00</td>\n",
              "    </tr>\n",
              "    <tr>\n",
              "      <th>37</th>\n",
              "      <td>581508178315</td>\n",
              "      <td>1.0</td>\n",
              "      <td>503</td>\n",
              "      <td>48899.14</td>\n",
              "    </tr>\n",
              "    <tr>\n",
              "      <th>38</th>\n",
              "      <td>581686439828</td>\n",
              "      <td>1.0</td>\n",
              "      <td>2552</td>\n",
              "      <td>144016.04</td>\n",
              "    </tr>\n",
              "    <tr>\n",
              "      <th>39</th>\n",
              "      <td>583699482621</td>\n",
              "      <td>1.0</td>\n",
              "      <td>1505</td>\n",
              "      <td>100972.57</td>\n",
              "    </tr>\n",
              "    <tr>\n",
              "      <th>40</th>\n",
              "      <td>584673555952</td>\n",
              "      <td>1.0</td>\n",
              "      <td>2036</td>\n",
              "      <td>125572.94</td>\n",
              "    </tr>\n",
              "    <tr>\n",
              "      <th>41</th>\n",
              "      <td>630412733309</td>\n",
              "      <td>2.0</td>\n",
              "      <td>516</td>\n",
              "      <td>30268.27</td>\n",
              "    </tr>\n",
              "    <tr>\n",
              "      <th>42</th>\n",
              "      <td>630423337322</td>\n",
              "      <td>1.0</td>\n",
              "      <td>3030</td>\n",
              "      <td>163466.44</td>\n",
              "    </tr>\n",
              "    <tr>\n",
              "      <th>43</th>\n",
              "      <td>630424987505</td>\n",
              "      <td>1.0</td>\n",
              "      <td>3099</td>\n",
              "      <td>179584.45</td>\n",
              "    </tr>\n",
              "    <tr>\n",
              "      <th>44</th>\n",
              "      <td>630425673344</td>\n",
              "      <td>2.0</td>\n",
              "      <td>1562</td>\n",
              "      <td>111329.77</td>\n",
              "    </tr>\n",
              "    <tr>\n",
              "      <th>45</th>\n",
              "      <td>630441765090</td>\n",
              "      <td>1.0</td>\n",
              "      <td>2023</td>\n",
              "      <td>138146.56</td>\n",
              "    </tr>\n",
              "    <tr>\n",
              "      <th>46</th>\n",
              "      <td>630451534402</td>\n",
              "      <td>1.0</td>\n",
              "      <td>3074</td>\n",
              "      <td>190975.99</td>\n",
              "    </tr>\n",
              "    <tr>\n",
              "      <th>47</th>\n",
              "      <td>630469040731</td>\n",
              "      <td>1.0</td>\n",
              "      <td>2047</td>\n",
              "      <td>124645.52</td>\n",
              "    </tr>\n",
              "    <tr>\n",
              "      <th>48</th>\n",
              "      <td>630471368021</td>\n",
              "      <td>1.0</td>\n",
              "      <td>529</td>\n",
              "      <td>53668.33</td>\n",
              "    </tr>\n",
              "    <tr>\n",
              "      <th>49</th>\n",
              "      <td>630484879808</td>\n",
              "      <td>1.0</td>\n",
              "      <td>2003</td>\n",
              "      <td>188061.88</td>\n",
              "    </tr>\n",
              "    <tr>\n",
              "      <th>50</th>\n",
              "      <td>639023984367</td>\n",
              "      <td>1.0</td>\n",
              "      <td>2562</td>\n",
              "      <td>156000.51</td>\n",
              "    </tr>\n",
              "    <tr>\n",
              "      <th>51</th>\n",
              "      <td>639030014711</td>\n",
              "      <td>1.0</td>\n",
              "      <td>1033</td>\n",
              "      <td>94721.85</td>\n",
              "    </tr>\n",
              "    <tr>\n",
              "      <th>52</th>\n",
              "      <td>639046421587</td>\n",
              "      <td>1.0</td>\n",
              "      <td>1003</td>\n",
              "      <td>91754.31</td>\n",
              "    </tr>\n",
              "    <tr>\n",
              "      <th>53</th>\n",
              "      <td>639077309909</td>\n",
              "      <td>2.0</td>\n",
              "      <td>505</td>\n",
              "      <td>32840.17</td>\n",
              "    </tr>\n",
              "    <tr>\n",
              "      <th>54</th>\n",
              "      <td>639095706599</td>\n",
              "      <td>1.0</td>\n",
              "      <td>538</td>\n",
              "      <td>35815.45</td>\n",
              "    </tr>\n",
              "    <tr>\n",
              "      <th>55</th>\n",
              "      <td>675909898057</td>\n",
              "      <td>1.0</td>\n",
              "      <td>1017</td>\n",
              "      <td>98422.99</td>\n",
              "    </tr>\n",
              "    <tr>\n",
              "      <th>56</th>\n",
              "      <td>675945690716</td>\n",
              "      <td>1.0</td>\n",
              "      <td>1570</td>\n",
              "      <td>95650.37</td>\n",
              "    </tr>\n",
              "    <tr>\n",
              "      <th>57</th>\n",
              "      <td>675961917837</td>\n",
              "      <td>2.0</td>\n",
              "      <td>540</td>\n",
              "      <td>47073.26</td>\n",
              "    </tr>\n",
              "    <tr>\n",
              "      <th>58</th>\n",
              "      <td>675990301623</td>\n",
              "      <td>1.0</td>\n",
              "      <td>2042</td>\n",
              "      <td>112762.00</td>\n",
              "    </tr>\n",
              "    <tr>\n",
              "      <th>59</th>\n",
              "      <td>676102124465</td>\n",
              "      <td>1.0</td>\n",
              "      <td>2091</td>\n",
              "      <td>187586.22</td>\n",
              "    </tr>\n",
              "  </tbody>\n",
              "</table>\n",
              "</div>\n",
              "    <div class=\"colab-df-buttons\">\n",
              "\n",
              "  <div class=\"colab-df-container\">\n",
              "    <button class=\"colab-df-convert\" onclick=\"convertToInteractive('df-3a0436d1-42a8-4323-aaa0-aef60f66b1fe')\"\n",
              "            title=\"Convert this dataframe to an interactive table.\"\n",
              "            style=\"display:none;\">\n",
              "\n",
              "  <svg xmlns=\"http://www.w3.org/2000/svg\" height=\"24px\" viewBox=\"0 -960 960 960\">\n",
              "    <path d=\"M120-120v-720h720v720H120Zm60-500h600v-160H180v160Zm220 220h160v-160H400v160Zm0 220h160v-160H400v160ZM180-400h160v-160H180v160Zm440 0h160v-160H620v160ZM180-180h160v-160H180v160Zm440 0h160v-160H620v160Z\"/>\n",
              "  </svg>\n",
              "    </button>\n",
              "\n",
              "  <style>\n",
              "    .colab-df-container {\n",
              "      display:flex;\n",
              "      gap: 12px;\n",
              "    }\n",
              "\n",
              "    .colab-df-convert {\n",
              "      background-color: #E8F0FE;\n",
              "      border: none;\n",
              "      border-radius: 50%;\n",
              "      cursor: pointer;\n",
              "      display: none;\n",
              "      fill: #1967D2;\n",
              "      height: 32px;\n",
              "      padding: 0 0 0 0;\n",
              "      width: 32px;\n",
              "    }\n",
              "\n",
              "    .colab-df-convert:hover {\n",
              "      background-color: #E2EBFA;\n",
              "      box-shadow: 0px 1px 2px rgba(60, 64, 67, 0.3), 0px 1px 3px 1px rgba(60, 64, 67, 0.15);\n",
              "      fill: #174EA6;\n",
              "    }\n",
              "\n",
              "    .colab-df-buttons div {\n",
              "      margin-bottom: 4px;\n",
              "    }\n",
              "\n",
              "    [theme=dark] .colab-df-convert {\n",
              "      background-color: #3B4455;\n",
              "      fill: #D2E3FC;\n",
              "    }\n",
              "\n",
              "    [theme=dark] .colab-df-convert:hover {\n",
              "      background-color: #434B5C;\n",
              "      box-shadow: 0px 1px 3px 1px rgba(0, 0, 0, 0.15);\n",
              "      filter: drop-shadow(0px 1px 2px rgba(0, 0, 0, 0.3));\n",
              "      fill: #FFFFFF;\n",
              "    }\n",
              "  </style>\n",
              "\n",
              "    <script>\n",
              "      const buttonEl =\n",
              "        document.querySelector('#df-3a0436d1-42a8-4323-aaa0-aef60f66b1fe button.colab-df-convert');\n",
              "      buttonEl.style.display =\n",
              "        google.colab.kernel.accessAllowed ? 'block' : 'none';\n",
              "\n",
              "      async function convertToInteractive(key) {\n",
              "        const element = document.querySelector('#df-3a0436d1-42a8-4323-aaa0-aef60f66b1fe');\n",
              "        const dataTable =\n",
              "          await google.colab.kernel.invokeFunction('convertToInteractive',\n",
              "                                                    [key], {});\n",
              "        if (!dataTable) return;\n",
              "\n",
              "        const docLinkHtml = 'Like what you see? Visit the ' +\n",
              "          '<a target=\"_blank\" href=https://colab.research.google.com/notebooks/data_table.ipynb>data table notebook</a>'\n",
              "          + ' to learn more about interactive tables.';\n",
              "        element.innerHTML = '';\n",
              "        dataTable['output_type'] = 'display_data';\n",
              "        await google.colab.output.renderOutput(dataTable, element);\n",
              "        const docLink = document.createElement('div');\n",
              "        docLink.innerHTML = docLinkHtml;\n",
              "        element.appendChild(docLink);\n",
              "      }\n",
              "    </script>\n",
              "  </div>\n",
              "\n",
              "\n",
              "    <div id=\"df-14188a75-686d-48d1-a5ca-1cb121068973\">\n",
              "      <button class=\"colab-df-quickchart\" onclick=\"quickchart('df-14188a75-686d-48d1-a5ca-1cb121068973')\"\n",
              "                title=\"Suggest charts\"\n",
              "                style=\"display:none;\">\n",
              "\n",
              "<svg xmlns=\"http://www.w3.org/2000/svg\" height=\"24px\"viewBox=\"0 0 24 24\"\n",
              "     width=\"24px\">\n",
              "    <g>\n",
              "        <path d=\"M19 3H5c-1.1 0-2 .9-2 2v14c0 1.1.9 2 2 2h14c1.1 0 2-.9 2-2V5c0-1.1-.9-2-2-2zM9 17H7v-7h2v7zm4 0h-2V7h2v10zm4 0h-2v-4h2v4z\"/>\n",
              "    </g>\n",
              "</svg>\n",
              "      </button>\n",
              "\n",
              "<style>\n",
              "  .colab-df-quickchart {\n",
              "      --bg-color: #E8F0FE;\n",
              "      --fill-color: #1967D2;\n",
              "      --hover-bg-color: #E2EBFA;\n",
              "      --hover-fill-color: #174EA6;\n",
              "      --disabled-fill-color: #AAA;\n",
              "      --disabled-bg-color: #DDD;\n",
              "  }\n",
              "\n",
              "  [theme=dark] .colab-df-quickchart {\n",
              "      --bg-color: #3B4455;\n",
              "      --fill-color: #D2E3FC;\n",
              "      --hover-bg-color: #434B5C;\n",
              "      --hover-fill-color: #FFFFFF;\n",
              "      --disabled-bg-color: #3B4455;\n",
              "      --disabled-fill-color: #666;\n",
              "  }\n",
              "\n",
              "  .colab-df-quickchart {\n",
              "    background-color: var(--bg-color);\n",
              "    border: none;\n",
              "    border-radius: 50%;\n",
              "    cursor: pointer;\n",
              "    display: none;\n",
              "    fill: var(--fill-color);\n",
              "    height: 32px;\n",
              "    padding: 0;\n",
              "    width: 32px;\n",
              "  }\n",
              "\n",
              "  .colab-df-quickchart:hover {\n",
              "    background-color: var(--hover-bg-color);\n",
              "    box-shadow: 0 1px 2px rgba(60, 64, 67, 0.3), 0 1px 3px 1px rgba(60, 64, 67, 0.15);\n",
              "    fill: var(--button-hover-fill-color);\n",
              "  }\n",
              "\n",
              "  .colab-df-quickchart-complete:disabled,\n",
              "  .colab-df-quickchart-complete:disabled:hover {\n",
              "    background-color: var(--disabled-bg-color);\n",
              "    fill: var(--disabled-fill-color);\n",
              "    box-shadow: none;\n",
              "  }\n",
              "\n",
              "  .colab-df-spinner {\n",
              "    border: 2px solid var(--fill-color);\n",
              "    border-color: transparent;\n",
              "    border-bottom-color: var(--fill-color);\n",
              "    animation:\n",
              "      spin 1s steps(1) infinite;\n",
              "  }\n",
              "\n",
              "  @keyframes spin {\n",
              "    0% {\n",
              "      border-color: transparent;\n",
              "      border-bottom-color: var(--fill-color);\n",
              "      border-left-color: var(--fill-color);\n",
              "    }\n",
              "    20% {\n",
              "      border-color: transparent;\n",
              "      border-left-color: var(--fill-color);\n",
              "      border-top-color: var(--fill-color);\n",
              "    }\n",
              "    30% {\n",
              "      border-color: transparent;\n",
              "      border-left-color: var(--fill-color);\n",
              "      border-top-color: var(--fill-color);\n",
              "      border-right-color: var(--fill-color);\n",
              "    }\n",
              "    40% {\n",
              "      border-color: transparent;\n",
              "      border-right-color: var(--fill-color);\n",
              "      border-top-color: var(--fill-color);\n",
              "    }\n",
              "    60% {\n",
              "      border-color: transparent;\n",
              "      border-right-color: var(--fill-color);\n",
              "    }\n",
              "    80% {\n",
              "      border-color: transparent;\n",
              "      border-right-color: var(--fill-color);\n",
              "      border-bottom-color: var(--fill-color);\n",
              "    }\n",
              "    90% {\n",
              "      border-color: transparent;\n",
              "      border-bottom-color: var(--fill-color);\n",
              "    }\n",
              "  }\n",
              "</style>\n",
              "\n",
              "      <script>\n",
              "        async function quickchart(key) {\n",
              "          const quickchartButtonEl =\n",
              "            document.querySelector('#' + key + ' button');\n",
              "          quickchartButtonEl.disabled = true;  // To prevent multiple clicks.\n",
              "          quickchartButtonEl.classList.add('colab-df-spinner');\n",
              "          try {\n",
              "            const charts = await google.colab.kernel.invokeFunction(\n",
              "                'suggestCharts', [key], {});\n",
              "          } catch (error) {\n",
              "            console.error('Error during call to suggestCharts:', error);\n",
              "          }\n",
              "          quickchartButtonEl.classList.remove('colab-df-spinner');\n",
              "          quickchartButtonEl.classList.add('colab-df-quickchart-complete');\n",
              "        }\n",
              "        (() => {\n",
              "          let quickchartButtonEl =\n",
              "            document.querySelector('#df-14188a75-686d-48d1-a5ca-1cb121068973 button');\n",
              "          quickchartButtonEl.style.display =\n",
              "            google.colab.kernel.accessAllowed ? 'block' : 'none';\n",
              "        })();\n",
              "      </script>\n",
              "    </div>\n",
              "\n",
              "    </div>\n",
              "  </div>\n"
            ],
            "application/vnd.google.colaboratory.intrinsic+json": {
              "type": "dataframe",
              "summary": "{\n  \"name\": \"# Conclusion: The user base is highly active, with a few high-value users contributing disproportionately to revenue\",\n  \"rows\": 60,\n  \"fields\": [\n    {\n      \"column\": \"cc_num\",\n      \"properties\": {\n        \"dtype\": \"number\",\n        \"std\": 176785464494,\n        \"min\": 60416207185,\n        \"max\": 676102124465,\n        \"num_unique_values\": 60,\n        \"samples\": [\n          60416207185,\n          60490596305,\n          581293083266\n        ],\n        \"semantic_type\": \"\",\n        \"description\": \"\"\n      }\n    },\n    {\n      \"column\": \"recency\",\n      \"properties\": {\n        \"dtype\": \"number\",\n        \"std\": 65.72103332099414,\n        \"min\": 1.0,\n        \"max\": 493.0,\n        \"num_unique_values\": 4,\n        \"samples\": [\n          2.0,\n          493.0,\n          1.0\n        ],\n        \"semantic_type\": \"\",\n        \"description\": \"\"\n      }\n    },\n    {\n      \"column\": \"frequency\",\n      \"properties\": {\n        \"dtype\": \"number\",\n        \"std\": 864,\n        \"min\": 7,\n        \"max\": 3123,\n        \"num_unique_values\": 58,\n        \"samples\": [\n          1518,\n          1010,\n          1034\n        ],\n        \"semantic_type\": \"\",\n        \"description\": \"\"\n      }\n    },\n    {\n      \"column\": \"monetary\",\n      \"properties\": {\n        \"dtype\": \"number\",\n        \"std\": 56835.58750986096,\n        \"min\": 3741.75,\n        \"max\": 213039.8,\n        \"num_unique_values\": 60,\n        \"samples\": [\n          85043.47,\n          73531.44,\n          155847.0\n        ],\n        \"semantic_type\": \"\",\n        \"description\": \"\"\n      }\n    }\n  ]\n}"
            }
          },
          "metadata": {},
          "execution_count": 26
        }
      ]
    },
    {
      "cell_type": "code",
      "source": [
        "# Co-relation between frequency and total spend\n",
        "\n",
        "customer_metrics = df.groupby('cc_num').agg(\n",
        "    total_spend=('amt', 'sum'),\n",
        "    transaction_count=('trans_num', 'count')\n",
        ").reset_index()\n",
        "\n",
        "correlation = customer_metrics['transaction_count'].corr(customer_metrics['total_spend'])\n",
        "print(f\"Correlation between frequency and total spend: {correlation:.2f}\")\n",
        "\n",
        "\n",
        "# Summary:\n",
        "#The correlation coefficient is 0.93, indicating a very strong positive relationship between the number of transactions (frequency) and total spend.\n",
        "#This means that customers who transact more frequently tend to spend significantly more overall.\n",
        "#It suggests that encouraging frequent usage of the card can directly increase revenue.\n",
        "#From a business perspective, focusing on increasing transaction frequency (via promotions, rewards, or habit-forming use cases) could be an effective strategy to boost overall customer value."
      ],
      "metadata": {
        "colab": {
          "base_uri": "https://localhost:8080/"
        },
        "id": "gj-9d0IoojU5",
        "outputId": "cb5353d9-c8ef-4f91-c579-c89b8db52e2a"
      },
      "execution_count": 27,
      "outputs": [
        {
          "output_type": "stream",
          "name": "stdout",
          "text": [
            "Correlation between frequency and total spend: 0.93\n"
          ]
        }
      ]
    },
    {
      "cell_type": "code",
      "source": [
        "\n",
        "# Monthly Transaction & Spend Trend Analysis\n",
        "\n",
        "df['month'] = df['trans_date_trans_time'].dt.to_period('M')\n",
        "\n",
        "monthly_summary = df.groupby('month').agg(\n",
        "    total_transactions=('trans_num', 'count'),\n",
        "    total_spend=('amt', 'sum')\n",
        ").reset_index()\n",
        "\n",
        "monthly_summary['txn_mom_change'] = monthly_summary['total_transactions'].pct_change() * 100\n",
        "monthly_summary['spend_mom_change'] = monthly_summary['total_spend'].pct_change() * 100\n",
        "print(monthly_summary)\n",
        "\n",
        "\n",
        "#Summary:\n",
        "#From Jan 2019 to Dec 2019, both transaction volume and total spend remained relatively stable, with moderate month-over-month (MoM) fluctuations, reflecting healthy and consistent customer activity.\n",
        "#In Jan 2020, there was a sharp decline (~-52%) in both transactions and spend, indicating a significant drop in card usage. This sudden dip could be attributed to external events or policy changes.\n",
        "#The months following Jan 2020 show gradual recovery, but overall levels remained lower than 2019 averages.\n",
        "#April 2020 and May 2020 saw continued declines, potentially due to pandemic-related lockdowns.\n",
        "#A notable rebound began in June 2020 and peaked around Dec 2020, with consistent positive growth in both transactions and spend from August to December.\n",
        "#The largest positive MoM spend change occurred in August 2020 (~12%), reflecting renewed consumer activity\n",
        "#Overall, the trend indicates a V-shaped recovery post-COVID onset, but with fluctuations in consumer behavior, highlighting sensitivity to external shocks."
      ],
      "metadata": {
        "colab": {
          "base_uri": "https://localhost:8080/"
        },
        "id": "eTAConAppPUF",
        "outputId": "248374f0-3275-4736-8154-130a51dfdb6f"
      },
      "execution_count": 28,
      "outputs": [
        {
          "output_type": "stream",
          "name": "stdout",
          "text": [
            "      month  total_transactions  total_spend  txn_mom_change  spend_mom_change\n",
            "0   2019-01               33655   2325829.58             NaN               NaN\n",
            "1   2019-02               30418   2144376.98       -9.618185         -7.801629\n",
            "2   2019-03               28790   2006759.00       -5.352094         -6.417621\n",
            "3   2019-04               29659   2083125.00        3.018409          3.805440\n",
            "4   2019-05               28348   1957151.86       -4.420243         -6.047315\n",
            "5   2019-06               28633   1962970.51        1.005362          0.297302\n",
            "6   2019-07               31602   2255952.53       10.369154         14.925442\n",
            "7   2019-08               32820   2271426.16        3.854186          0.685902\n",
            "8   2019-09               30320   2066634.36       -7.617307         -9.016001\n",
            "9   2019-10               28780   2023194.89       -5.079156         -2.101943\n",
            "10  2019-11               29460   2125019.37        2.362752          5.032856\n",
            "11  2019-12               28373   2038429.73       -3.689749         -4.074769\n",
            "12  2020-01               13434    970296.35      -52.652169        -52.399814\n",
            "13  2020-02               14330   1060664.48        6.669644          9.313457\n",
            "14  2020-03               13052    924892.27       -8.918353        -12.800675\n",
            "15  2020-04               11820    818073.34       -9.439166        -11.549338\n",
            "16  2020-05               13538    897039.90       14.534687          9.652748\n",
            "17  2020-06               12787    872713.19       -5.547348         -2.711887\n",
            "18  2020-07               12637    866961.53       -1.173066         -0.659055\n",
            "19  2020-08               13381    972961.40        5.887473         12.226594\n",
            "20  2020-09               14365   1001866.86        7.353710          2.970874\n",
            "21  2020-10               13154    939579.06       -8.430212         -6.217173\n",
            "22  2020-11               11963    880176.95       -9.054280         -6.322205\n",
            "23  2020-12               13628    978021.62       13.917914         11.116477\n"
          ]
        }
      ]
    },
    {
      "cell_type": "code",
      "source": [
        "# Average Spend per User by Merchant Region\n",
        "\n",
        "# Group by region and user, and sum amount\n",
        "region_user_spend = df.groupby(['merchant', 'cc_num'])['amt'].sum().reset_index()\n",
        "\n",
        "# Now average spend per user by region\n",
        "region_avg_spend = region_user_spend.groupby('merchant')['amt'].mean().reset_index().sort_values(by='amt', ascending=False)\n",
        "\n",
        "# Rename columns for clarity\n",
        "region_avg_spend.columns = ['merchant_region', 'avg_spend_per_user']\n",
        "\n",
        "print(region_avg_spend.head(30))\n",
        "\n",
        "\n",
        "# Summary\n",
        "# This analysis identifies merchant regions where customers have the highest average spend per card. By aggregating total spending per user and then averaging it across regions, we discover that certain merchant zones exhibit significantly higher per-user spend—ranging from ~$363 to $453 in the top 30.\n",
        "# These insights are valuable for:\n",
        "# Spotting high-value regions driving stronger revenue per customer.\n",
        "# Informing regional marketing and loyalty strategies.\n",
        "# Guiding resource prioritization for merchant partnerships or customer engagement."
      ],
      "metadata": {
        "colab": {
          "base_uri": "https://localhost:8080/"
        },
        "id": "XvXUeS7MqvD8",
        "outputId": "fb12cc71-2ece-4b02-c06e-ea80b5c4196e"
      },
      "execution_count": 29,
      "outputs": [
        {
          "output_type": "stream",
          "name": "stdout",
          "text": [
            "                         merchant_region  avg_spend_per_user\n",
            "316                    fraud_Kilback LLC          453.161240\n",
            "217              fraud_Hackett-Lueilwitz          385.376303\n",
            "494                   fraud_Rau and Sons          383.982973\n",
            "73                     fraud_Bradtke PLC          379.524780\n",
            "194    fraud_Goldner, Kovacek and Abbott          377.384078\n",
            "572     fraud_Schumm, Bauch and Ondricka          377.194376\n",
            "468               fraud_Pacocha-O'Reilly          377.166515\n",
            "29                    fraud_Bauch-Raynor          376.714904\n",
            "415              fraud_McDermott-Weimann          375.485356\n",
            "147                    fraud_DuBuque LLC          375.369359\n",
            "130                fraud_Deckow-O'Conner          373.703015\n",
            "146                      fraud_Doyle Ltd          372.489319\n",
            "466   fraud_Osinski, Ledner and Leuschke          372.452253\n",
            "563    fraud_Schoen, Kuphal and Nitzsche          372.029665\n",
            "196               fraud_Goodwin-Nitzsche          371.674950\n",
            "442   fraud_Mosciski, Gislason and Mertz          371.661980\n",
            "395        fraud_Lockman, West and Runte          371.318964\n",
            "550            fraud_Schamberger-O'Keefe          370.962082\n",
            "447                 fraud_Murray-Smitham          369.381505\n",
            "645                fraud_Vandervort-Funk          369.372462\n",
            "543               fraud_Rutherford-Mertz          369.135299\n",
            "328                   fraud_Koepp-Parker          368.933807\n",
            "241      fraud_Heller, Gutmann and Zieme          368.572309\n",
            "336  fraud_Kovacek, Dibbert and Ondricka          368.200268\n",
            "12                   fraud_Auer-Mosciski          367.893014\n",
            "87         fraud_Casper, Hand and Zulauf          367.204861\n",
            "359                 fraud_Kutch and Sons          365.834924\n",
            "309                 fraud_Kiehn-Emmerich          365.273701\n",
            "394                    fraud_Lockman Ltd          365.243755\n",
            "25                      fraud_Barton Inc          363.622668\n"
          ]
        }
      ]
    },
    {
      "cell_type": "code",
      "source": [
        "# Repeat Customer Analysis by Merchant\n",
        "\n",
        "# Step 1: Group by merchant and customer, and count transactions\n",
        "merchant_customer_txn = df.groupby(['merchant', 'cc_num']).size().reset_index(name='txn_count')\n",
        "\n",
        "# Step 2: Keep only repeat customers (more than 1 transaction with the merchant)\n",
        "repeat_customers = merchant_customer_txn[merchant_customer_txn['txn_count'] > 1]\n",
        "\n",
        "# Step 3: Count how many repeat customers each merchant has\n",
        "merchant_repeat_counts = repeat_customers.groupby('merchant')['cc_num'].nunique().reset_index()\n",
        "\n",
        "# Rename columns\n",
        "merchant_repeat_counts.columns = ['merchant', 'repeat_customer_count']\n",
        "\n",
        "# Step 4: Sort to see top merchants driving repeat users\n",
        "top_merchants = merchant_repeat_counts.sort_values(by='repeat_customer_count', ascending=False)\n",
        "\n",
        "print(top_merchants.head(10))\n",
        "\n",
        "\n",
        "# Summary\n",
        "# This analysis identifies merchants with the highest number of repeat customers—those who transacted more than once.\n",
        "# Merchants like Kilback LLC and Kuhn LLC show strong customer retention, suggesting high engagement and satisfaction.\n",
        "# Tracking repeat behavior helps uncover loyalty trends and valuable merchant relationships.\\"
      ],
      "metadata": {
        "colab": {
          "base_uri": "https://localhost:8080/"
        },
        "id": "aJTtyBFZq1mV",
        "outputId": "fb0f8097-2f42-4501-b728-01eefc23e73e"
      },
      "execution_count": 30,
      "outputs": [
        {
          "output_type": "stream",
          "name": "stdout",
          "text": [
            "                    merchant  repeat_customer_count\n",
            "316        fraud_Kilback LLC                    766\n",
            "349           fraud_Kuhn LLC                    716\n",
            "136      fraud_Dickinson Ltd                    706\n",
            "571         fraud_Schumm PLC                    705\n",
            "70           fraud_Boyer PLC                    703\n",
            "105        fraud_Cormier LLC                    697\n",
            "217  fraud_Hackett-Lueilwitz                    630\n",
            "420       fraud_Medhurst Inc                    626\n",
            "211      fraud_Gulgowski LLC                    625\n",
            "427       fraud_Miller-Hauck                    623\n"
          ]
        }
      ]
    },
    {
      "cell_type": "code",
      "source": [
        "# State-wise Total Spend Analysis\n",
        "state_spend = df.groupby('state')['amt'].sum().reset_index().sort_values(by='amt', ascending=False)\n",
        "print(state_spend)\n",
        "\n",
        "\n",
        "# Summary\n",
        "# This analysis ranks U.S. states by total transaction amount.\n",
        "# Texas, New York, and Pennsylvania lead in total spending, indicating higher customer activity or population density.\n",
        "# Conversely, states like Delaware, Rhode Island, and Alaska show the lowest spend, which may suggest fewer users, lower engagement, or smaller populations.\n",
        "# This geographic insight helps prioritize marketing or service efforts regionally."
      ],
      "metadata": {
        "colab": {
          "base_uri": "https://localhost:8080/"
        },
        "id": "RHZj_sPQrAJr",
        "outputId": "f1e9f05c-2899-4bcd-cfd3-a43e2cd6ea41"
      },
      "execution_count": 31,
      "outputs": [
        {
          "output_type": "stream",
          "name": "stdout",
          "text": [
            "   state         amt\n",
            "43    TX  6800917.53\n",
            "34    NY  6006499.03\n",
            "38    PA  5771009.53\n",
            "4     CA  4138078.51\n",
            "35    OH  3396146.66\n",
            "22    MI  3282724.96\n",
            "9     FL  3155191.63\n",
            "14    IL  3011891.30\n",
            "1     AL  2682717.10\n",
            "24    MO  2637453.06\n",
            "2     AR  2342468.83\n",
            "27    NC  2329801.35\n",
            "23    MN  2201786.07\n",
            "45    VA  2068711.63\n",
            "48    WI  2024087.77\n",
            "15    IN  1896089.78\n",
            "17    KY  1886805.59\n",
            "40    SC  1877381.44\n",
            "10    GA  1821058.13\n",
            "49    WV  1819548.13\n",
            "36    OK  1790296.32\n",
            "12    IA  1770089.29\n",
            "20    MD  1699676.82\n",
            "31    NJ  1633983.29\n",
            "29    NE  1625146.83\n",
            "16    KS  1593906.51\n",
            "18    LA  1571503.33\n",
            "50    WY  1463800.48\n",
            "25    MS  1426619.58\n",
            "47    WA  1396159.07\n",
            "42    TN  1313513.23\n",
            "37    OR  1309575.16\n",
            "5     CO  1090171.31\n",
            "21    ME  1048856.74\n",
            "32    NM  1002601.26\n",
            "28    ND   968472.11\n",
            "46    VT   966098.03\n",
            "41    SD   870557.74\n",
            "26    MT   814623.55\n",
            "3     AZ   808325.53\n",
            "19    MA   763584.19\n",
            "44    UT   688952.67\n",
            "30    NH   612651.91\n",
            "6     CT   498323.98\n",
            "13    ID   405151.26\n",
            "33    NV   317000.03\n",
            "7     DC   277115.46\n",
            "11    HI   150985.03\n",
            "0     AK   144623.05\n",
            "39    RI    45066.67\n",
            "8     DE     4630.44\n"
          ]
        }
      ]
    },
    {
      "cell_type": "code",
      "source": [
        "# Fraud Rate by Category\n",
        "\n",
        "fraud_by_cat = df.groupby('category')['is_fraud'].mean().sort_values(ascending=False)\n",
        "fraud_by_cat.plot(kind='bar', title='Fraud Rate by Category')\n",
        "\n",
        "\n",
        "# The analysis reveals that online shopping (shopping_net) and miscellaneous online (misc_net) categories have the highest fraud rates, followed by grocery and shopping POS transactions.\n",
        "# In contrast, health, dining, and personal care categories exhibit the lowest fraud incidence.\n",
        "# This highlights that online and high-traffic categories are more vulnerable to fraudulent activity, making them critical areas for enhanced fraud monitoring and intervention."
      ],
      "metadata": {
        "colab": {
          "base_uri": "https://localhost:8080/",
          "height": 575
        },
        "id": "75-7OMORrXTt",
        "outputId": "c128acd5-328e-43ac-e66b-fd7515cca63a"
      },
      "execution_count": 32,
      "outputs": [
        {
          "output_type": "execute_result",
          "data": {
            "text/plain": [
              "<Axes: title={'center': 'Fraud Rate by Category'}, xlabel='category'>"
            ]
          },
          "metadata": {},
          "execution_count": 32
        },
        {
          "output_type": "display_data",
          "data": {
            "text/plain": [
              "<Figure size 640x480 with 1 Axes>"
            ],
            "image/png": "[encoded data removed]"
          },
          "metadata": {}
        }
      ]
    },
    {
      "cell_type": "code",
      "source": [
        "# Correlation Between Total Spend and Fraud Risk\n",
        "\n",
        "# Merge fraud info\n",
        "fraud_summary = df.groupby('cc_num')['is_fraud'].mean().reset_index(name='fraud_rate')\n",
        "customer_risk = customer_summary.merge(fraud_summary, on='cc_num')\n",
        "\n",
        "# Correlation\n",
        "correlation = customer_risk[['total_spent', 'fraud_rate']].corr()\n",
        "print(\"Correlation between total spend and fraud risk:\")\n",
        "print(correlation)\n",
        "\n",
        "\n",
        "# Summary:\n",
        "# There is a moderate negative correlation (-0.43) between total spend and fraud rate, indicating that customers who spend less are relatively more prone to fraud.\n",
        "# High-spending users tend to have lower fraud risk, suggesting the need to monitor low-value accounts more closely for potential fraud."
      ],
      "metadata": {
        "colab": {
          "base_uri": "https://localhost:8080/"
        },
        "id": "FCSDxzBBrcAE",
        "outputId": "1f6a40d1-d66b-4a94-e6eb-6cf9c25ae750"
      },
      "execution_count": 33,
      "outputs": [
        {
          "output_type": "stream",
          "name": "stdout",
          "text": [
            "Correlation between total spend and fraud risk:\n",
            "             total_spent  fraud_rate\n",
            "total_spent     1.000000   -0.430067\n",
            "fraud_rate     -0.430067    1.000000\n"
          ]
        }
      ]
    },
    {
      "cell_type": "code",
      "source": [
        "# Transaction Behavior by Time of Day and Category\n",
        "\n",
        "df['trans_hour'] = df['trans_date_trans_time'].dt.hour\n",
        "def time_segment(hour):\n",
        "    if 0 <= hour < 5:\n",
        "        return 'Late Night'\n",
        "    elif 5 <= hour < 12:\n",
        "        return 'Morning'\n",
        "    elif 12 <= hour < 17:\n",
        "        return 'Afternoon'\n",
        "    elif 17 <= hour < 21:\n",
        "        return 'Evening'\n",
        "    else:\n",
        "        return 'Night'\n",
        "\n",
        "df['time_of_day'] = df['trans_hour'].apply(time_segment)\n",
        "\n",
        "category_by_time = df.groupby(['time_of_day', 'category'])['amt'].agg(['count', 'mean', 'sum']).reset_index()\n",
        "category_by_time.columns = ['Time of Day', 'Category', 'Transaction Count', 'Avg Amount', 'Total Amount']\n",
        "\n",
        "print(category_by_time)\n",
        "\n",
        "\n",
        "# Summary:\n",
        "# This analysis explores how customer spending behavior varies by time of day and transaction category.\n",
        "# It reveals that Night is the most active period with the highest transaction volume and total spend, particularly in shopping, grocery, and travel categories.\n",
        "# Morning and Late Night also show high-value transactions, especially for essentials like grocery and transport.\n",
        "# In contrast, Afternoon sees the least activity. These insights help identify peak engagement periods and can inform targeted marketing, resource allocation, and fraud monitoring strategies."
      ],
      "metadata": {
        "colab": {
          "base_uri": "https://localhost:8080/"
        },
        "id": "x8Q0NMGbFHHr",
        "outputId": "e4c75fdd-b9c4-49ec-d0c6-d4fea369764d"
      },
      "execution_count": 34,
      "outputs": [
        {
          "output_type": "stream",
          "name": "stdout",
          "text": [
            "   Time of Day        Category  Transaction Count  Avg Amount  Total Amount\n",
            "0    Afternoon   entertainment              12841   65.054528     835365.19\n",
            "1    Afternoon     food_dining              13602   46.760549     636036.99\n",
            "2    Afternoon     grocery_pos                341   76.066862      25938.80\n",
            "3    Afternoon  health_fitness              14359   54.535029     783068.48\n",
            "4    Afternoon            home              20471   57.892251    1185112.28\n",
            "5    Afternoon       kids_pets              18800   57.679762    1084379.52\n",
            "6    Afternoon        misc_net               1879   79.630841     149626.35\n",
            "7    Afternoon        misc_pos               5634   69.043410     388990.57\n",
            "8    Afternoon   personal_care              14982   47.412615     710335.80\n",
            "9    Afternoon    shopping_net               9157   80.827300     740135.59\n",
            "10   Afternoon    shopping_pos              11867   82.947453     984337.42\n",
            "11   Afternoon          travel               6732  116.912568     787055.41\n",
            "12     Evening   entertainment              10375   64.772225     672011.83\n",
            "13     Evening     food_dining              10820   47.811138     517316.51\n",
            "14     Evening     grocery_pos                268   73.719963      19756.95\n",
            "15     Evening  health_fitness              11546   53.468521     617347.54\n",
            "16     Evening            home              16634   58.179770     967762.30\n",
            "17     Evening       kids_pets              15302   57.956955     886857.32\n",
            "18     Evening        misc_net               1551   77.922566     120857.90\n",
            "19     Evening        misc_pos               4531   68.458548     310185.68\n",
            "20     Evening   personal_care              12295   48.796846     599957.22\n",
            "21     Evening    shopping_net               7291   78.969074     575763.52\n",
            "22     Evening    shopping_pos               9387   79.811035     749186.19\n",
            "23     Evening          travel               5410  108.141429     585045.13\n",
            "24  Late Night   entertainment               2739   52.726510     144417.91\n",
            "25  Late Night     food_dining               1686   81.016453     136593.74\n",
            "26  Late Night   gas_transport              21924   63.156389    1384640.67\n",
            "27  Late Night     grocery_net               7689   54.027903     415420.55\n",
            "28  Late Night     grocery_pos              20397  119.869649    2444981.24\n",
            "29  Late Night        misc_net               8495   77.005728     654163.66\n",
            "30  Late Night        misc_pos               7657   62.659620     479784.71\n",
            "31  Late Night    shopping_net               6944   79.393939     551311.51\n",
            "32  Late Night    shopping_pos               7571   66.879589     506345.37\n",
            "33     Morning   entertainment               3835   51.116203     196030.64\n",
            "34     Morning     food_dining               2279   80.246762     182882.37\n",
            "35     Morning   gas_transport              30511   63.621939    1941168.97\n",
            "36     Morning     grocery_net              10470   53.421414     559322.20\n",
            "37     Morning     grocery_pos              27875  115.130401    3209259.93\n",
            "38     Morning        misc_net              12121   70.666028     856542.93\n",
            "39     Morning        misc_pos              10498   59.528171     624926.74\n",
            "40     Morning    shopping_net               9489   70.513290     669100.61\n",
            "41     Morning    shopping_pos              10734   62.026430     665791.70\n",
            "42       Night   entertainment              64224   65.222549    4188852.99\n",
            "43       Night     food_dining              63074   50.728190    3199629.83\n",
            "44       Night   gas_transport              79224   63.439395    5025922.65\n",
            "45       Night     grocery_net              27293   53.664673    1464669.93\n",
            "46       Night     grocery_pos              74757  117.191507    8760885.46\n",
            "47       Night  health_fitness              59974   54.235035    3252692.00\n",
            "48       Night            home              86010   58.377555    5021053.53\n",
            "49       Night       kids_pets              78933   57.421399    4532443.32\n",
            "50       Night        misc_net              39241   85.026335    3336518.42\n",
            "51       Night        misc_pos              51335   62.446573    3205694.80\n",
            "52       Night   personal_care              63481   47.938084    3043157.51\n",
            "53       Night    shopping_net              64662   94.164091    6088838.45\n",
            "54       Night    shopping_pos              77113   83.025339    6402332.93\n",
            "55       Night          travel              28365  110.862723    3144621.14\n"
          ]
        }
      ]
    },
    {
      "cell_type": "markdown",
      "source": [
        "# Analysis and Insights on Visa Dataset"
      ],
      "metadata": {
        "id": "D-xSYQt-5NcH"
      }
    },
    {
      "cell_type": "markdown",
      "source": [
        "After analyzing the Visa credit card transaction dataset, I performed extensive data wrangling and explored key patterns related to customer spending behavior, fraud risk, and transactional trends across time, category, and geography. The goal was to uncover actionable insights that impact customer value, detect potential fraud signals, and understand spending dynamics. Below is a concise summary of the analysis steps, major findings, and observed behavioral patterns."
      ],
      "metadata": {
        "id": "YWz1cdWo44g0"
      }
    },
    {
      "cell_type": "markdown",
      "source": [
        "# Data Manipulations Performed"
      ],
      "metadata": {
        "id": "wWR2xbPj5XZY"
      }
    },
    {
      "cell_type": "markdown",
      "source": [
        "# 1. Dataset Exploration:\n",
        "\n",
        "•\tChecked for missing values and verified data types across all columns, focusing on time, category, and fraud flags.\n",
        "\n",
        "•\tRemoved duplicate records to ensure each transaction is unique and clean.\n",
        "\n",
        "•\tParsed the trans_date_trans_time column into datetime format for accurate time-based analysis.\n",
        "\n",
        "•\tExtracted components such as transaction hour, date, and day of the week to enable temporal segmentation.\n",
        "\n",
        "\n",
        "# 2. Aggregated Metrics:\n",
        "\n",
        "Grouped data by cc_num to calculate:\n",
        "\n",
        "   •\ttotal_spent: Total amount spent per customer.\n",
        "\n",
        "   •\ttotal_transactions: Number of transactions per customer.\n",
        "\n",
        "   •\taverage_transaction_value: Mean amount spent per transaction\n",
        "\n",
        "Grouped transactions by merchant and category to assess:\n",
        "\n",
        "   •\tTotal revenue contribution per merchant.\n",
        "\n",
        "   •\tFrequency of transactions and average amount per category.\n",
        "\n",
        "•\tCreated a merchant-level and state-level breakdown of transaction volume and total spend.\n",
        "\n",
        "\n",
        "# 3. Feature Engineering:\n",
        "\n",
        "•\tTime of Day Segmentation: Created trans_hour column and segmented it into Morning, Afternoon, Evening, Night, and Late Night.\n",
        "\n",
        "•\tFraud Flags: Calculated fraud_rate by customer, category, and time segment using the mean of the is_fraud flag.\n",
        "\n",
        "•\tCustomer Value Segmentation:\n",
        "\n",
        "        Performed RFM Analysis using:\n",
        "            o\tRecency: Days since last transaction.\n",
        "            o\tFrequency: Number of transactions.\n",
        "            o\tMonetary: Total amount spent.\n",
        "\n",
        "•\tCreated category_by_time table showing transaction patterns across time segments and spending categories.\n",
        "\n",
        "\n",
        "\n",
        "# 4. Fraud Risk Analysis:\n",
        "\n",
        "•\tGrouped data by category and merchant to compute fraud rates.\n",
        "\n",
        "•\tIdentified categories with highest fraud proportions (e.g., Travel, Shopping_Net, etc.).\n",
        "\n",
        "•\tMerged customer-level fraud rate with spend data to analyze correlation between fraud risk and high-value customers.\n",
        "\n",
        "# 5. Top/Bottom Performers:\n",
        "\n",
        "•\tIdentified:\n",
        "\n",
        "         * Top spending states and merchants by total transaction volume.\n",
        "         * Categories with highest and lowest average spend.\n",
        "\n",
        "•\tVisualized fraud-prone categories and compared them with total transaction volume to evaluate business risk.\n",
        "\n",
        "\n"
      ],
      "metadata": {
        "id": "zpUSNrtP6BEb"
      }
    },
    {
      "cell_type": "markdown",
      "source": [
        "# Key Insights and Patterns – Visa Dataset"
      ],
      "metadata": {
        "id": "fedu8ueeCfcw"
      }
    },
    {
      "cell_type": "markdown",
      "source": [
        "## 1. Time-of-Day & Transaction Behavior\n",
        "\n",
        "**Observation:** Night accounts for the highest total transaction volume and value, especially across categories such as shopping_pos, kids_pets, home, travel, and grocery_pos. Morning transactions, particularly in grocery_pos and gas_transport, show the highest average transaction value.\n",
        "\n",
        "\n",
        "**Insight:** Nighttime spending reflects routine or planned high-value purchases, while morning transactions indicate essential, non-discretionary behavior.\n",
        "\n",
        "**Business Impact:**Marketing offers can be aligned with peak hours. Fraud detection should be more aggressive during high-traffic time slots, particularly at night.\n",
        "\n",
        "## 2. Category-Level Spending Behavior\n",
        "\n",
        "**Observation:**Top categories by volume include grocery_pos, shopping_pos, home, and food_dining. Categories such as travel, shopping_net, and grocery_pos show the highest average amount per transaction.\n",
        "\n",
        "**Insight:**High-volume categories reflect essential or habitual behavior, while high-average-spend categories suggest selective, high-involvement purchases.\n",
        "\n",
        "**Business Impact:**Cashbacks, loyalty points, and retention efforts should focus on high-volume categories. EMI or rewards programs can be introduced for high-ticket categories to increase engagement.\n",
        "\n",
        "## 3. Fraud Risk by Category and Time\n",
        "\n",
        "**Observation:**Categories like travel, shopping_net, misc_net, and shopping_pos report the highest fraud rates. Fraud is most prevalent during night and late-night, especially in online categories.\n",
        "\n",
        "**Insight:** Fraud risk is higher in remote, online, and less-regulated segments, particularly during low-activity periods when system checks might be minimal.\n",
        "\n",
        "**Business Impact:** Implement stricter real-time validation during high-risk time blocks and in online categories. Reinforce multi-layered authentication where fraud is concentrated.\n",
        "\n",
        "## 4. Fraud Behavior by Customer Profile\n",
        "\n",
        "**Observation:** Several users had a small number of transactions (3–5) but fraud rates exceeding 50%. Conversely, high-spending customers exhibited lower fraud rates.\n",
        "\n",
        "**Insight:** Low-activity accounts with high fraud ratios may represent testing behavior by fraudsters. High-value customers tend to be more authentic and trustworthy.\n",
        "\n",
        "**Business Impact:** Risk models should prioritize spend-to-fraud ratio and monitor outlier behavior. Early detection systems should be set up to flag low-frequency, high-fraud profiles.\n",
        "\n",
        "## 5. Customer Segmentation & Transaction Profiles\n",
        "\n",
        "**Observation:** A small subset of users contributes disproportionately to the transaction count. High-transaction users may be either highly engaged or exhibit bot-like behavior.\n",
        "\n",
        "**Insight:** Volume can be a proxy for both loyalty and risk. Additional segmentation is needed to distinguish between VIPs and suspicious actors.\n",
        "\n",
        "**Business Impact:** Offer premium experiences to verified high-spenders. Conduct enhanced KYC checks and fraud monitoring on unusually high-volume users.\n",
        "\n",
        "## 6. Channel Usage Patterns (POS vs NET)\n",
        "\n",
        "**Observation:** POS-dominant categories include shopping_pos, personal_care, and food_dining, while shopping_net, misc_net, and travel are NET-heavy.\n",
        "\n",
        "**Insight:** Customer behavior diverges clearly between online and offline channels. Digital adoption is strong in shopping and travel categories.\n",
        "\n",
        "**Business Impact:** Run channel-specific campaigns. For NET categories, push app-exclusive offers. For POS, improve the in-store value proposition.\n",
        "\n",
        "## 7. Category-Time Interactions\n",
        "\n",
        "**Observation:** Specific category-time combinations such as Late Night – Grocery_pos, Afternoon – Travel, and Night – Shopping_pos involve high spend and, in some cases, high fraud.\n",
        "\n",
        "**Insight:** Time and category jointly influence user behavior and risk. Fraud models that incorporate this interaction are more precise.\n",
        "\n",
        "**Business Impact:** Use time-category cross segments to fine-tune fraud detection and marketing interventions. Apply differentiated thresholds by segment."
      ],
      "metadata": {
        "id": "cEoLPiJFSan2"
      }
    },
    {
      "cell_type": "markdown",
      "source": [
        "# Hypotheses and Logical Insights"
      ],
      "metadata": {
        "id": "kkqSsqGYcrEC"
      }
    },
    {
      "cell_type": "markdown",
      "source": [
        "1. High-Value Late-Night Transactions Are Prone to Fraud\n",
        "\n",
        "**Hypothesis:**\n",
        "Fraudsters prefer late-night hours when monitoring is weaker, especially for high-value transactions.\n",
        "\n",
        "**Observation:**\n",
        "Late-night periods show increased fraud activity in categories like shopping_pos, kids_pets, and travel.\n",
        "\n",
        "**Conclusion:**\n",
        "Enhance fraud detection rules during night hours using stricter thresholds or real-time verification.\n",
        "\n",
        "2. Online Transactions Are More Vulnerable to Fraud\n",
        "\n",
        "**Hypothesis:**\n",
        "Online (NET) categories lack physical verification, making them easier targets for fraud.\n",
        "\n",
        "**Observation:**\n",
        "shopping_net, travel, and misc_net have the highest fraud ratios among all categories.\n",
        "\n",
        "**Conclusion:**\n",
        "Add OTP validation and real-time anomaly detection for NET transactions to strengthen security.\n",
        "\n",
        "3. Frequent High-Spending Customers Are Low Fraud Risk\n",
        "\n",
        "**Hypothesis:**\n",
        "Loyal, high-spending users are less likely to commit fraud.\n",
        "\n",
        "**Observation:**\n",
        "A mild negative correlation exists between total amount spent and fraud ratio.\n",
        "\n",
        "**Conclusion:**\n",
        "Prioritize such users for loyalty programs and reduce unnecessary fraud checks for smoother experience.\n",
        "\n",
        "4. Low Transaction Activity With High Fraud Signals Synthetic Accounts\n",
        "\n",
        "**Hypothesis:**\n",
        "Fraudsters may test cards with a few fraudulent transactions before scaling up.\n",
        "\n",
        "**Observation:**\n",
        "Users with fewer than 5 transactions often show 100% fraud rates.\n",
        "\n",
        "**Conclusion:**\n",
        "Flag low-activity accounts with high fraud ratios for review or blocking.\n",
        "\n",
        "5. Routine Necessity Categories Are Safe Zones\n",
        "\n",
        "**Hypothesis:**\n",
        "Essential spending like groceries and gas is typically legitimate and low-risk.\n",
        "\n",
        "**Observation:**\n",
        "Categories like grocery_pos and gas_transport have high spending with consistently low fraud.\n",
        "\n",
        "**Conclusion:**\n",
        "Use these safe zones for customer engagement campaigns and consider reduced fraud scrutiny here.\n",
        "\n",
        "6. Fraud Is Clustered Among a Few Customers\n",
        "\n",
        "**Hypothesis:**\n",
        "Fraud is not evenly distributed; it concentrates in a small group of users.\n",
        "\n",
        "**Observation:**\n",
        "A minority of customers contribute a large share of fraudulent transactions.\n",
        "\n",
        "**Conclusion:**\n",
        "Implement a customer-level fraud scoring system to flag high-risk accounts proactively.\n",
        "\n",
        "7. High-Value Online Categories Reflect Planned Spending\n",
        "\n",
        "**Hypothesis:**\n",
        "Categories with high-value online transactions indicate thoughtful purchases by brand-loyal customers.\n",
        "\n",
        "**Observation:**\n",
        "shopping_net, travel, and grocery_net show high average transaction value.\n",
        "\n",
        "**Conclusion:**\n",
        "Promote these categories using targeted offers like cashback or EMIs to increase CLV.\n",
        "\n",
        "8. Fraud Peaks in Off-Hours for Online Categories\n",
        "\n",
        "**Hypothesis:**\n",
        "Fraudsters exploit low-monitoring hours in NET-based purchases.\n",
        "\n",
        "**Observation:**\n",
        "Night and Late Night periods show elevated fraud in NET transactions.\n",
        "\n",
        "**Conclusion:**\n",
        "Use dynamic time-based risk scoring — increase fraud score for online transactions between 12 AM–6 AM.\n",
        "\n",
        "9. Offline Transactions Are Safer Due to Physical Presence\n",
        "\n",
        "**Hypothesis:**\n",
        "POS transactions with physical card presence reduce fraud risk.\n",
        "\n",
        "**Observation:**\n",
        "Categories like personal_care, home, and health_fitness show low fraud rates despite high volume.\n",
        "\n",
        "**Conclusion:**\n",
        "These channels can be promoted more aggressively with lower risk of fraud impact."
      ],
      "metadata": {
        "id": "xpJTmbWwcGsW"
      }
    },
    {
      "cell_type": "markdown",
      "source": [
        "# 4. Data Vizualization, Storytelling & Experimenting with charts : Understand the relationships between variables"
      ],
      "metadata": {
        "id": "P9y8KHyNczVN"
      }
    },
    {
      "cell_type": "code",
      "source": [
        "#Group by customer (credit card number) and count their transactions\n",
        "\n",
        "customer_freq = df.groupby('cc_num')['trans_num'].count().reset_index(name='transaction_count')\n",
        "# Plot histogram of transaction counts\n",
        "plt.figure(figsize=(10,6))\n",
        "sns.histplot(customer_freq['transaction_count'], bins=30, kde=True, color='skyblue')\n",
        "\n",
        "plt.title('Distribution of Transaction Frequency per Customer')\n",
        "plt.xlabel('Number of Transactions')\n",
        "plt.ylabel('Number of Customers')\n",
        "plt.grid(True)\n",
        "plt.show()"
      ],
      "metadata": {
        "colab": {
          "base_uri": "https://localhost:8080/",
          "height": 564
        },
        "id": "WRwq-BWBVEHM",
        "outputId": "69c51edb-f2a2-4450-a5dc-bc4a6f1db9ee"
      },
      "execution_count": 35,
      "outputs": [
        {
          "output_type": "display_data",
          "data": {
            "text/plain": [
              "<Figure size 1000x600 with 1 Axes>"
            ],
            "image/png": "[encoded data removed]"
          },
          "metadata": {}
        }
      ]
    },
    {
      "cell_type": "markdown",
      "source": [
        "1. Why did I choose this chart?\n",
        "\n",
        "I chose this histogram with a KDE curve to visualize the distribution of transaction frequency per customer. It clearly shows how transaction counts are spread across the customer base and helps identify common behaviors as well as outliers. This format is ideal for spotting skewness, clusters, or gaps in customer activity.\n",
        "\n",
        "2. Insight(s) found from the chart?\n",
        "\n",
        "Most customers make between 500 and 2000 transactions, showing a strong central cluster of engagement.\n",
        "The KDE curve reveals multiple peaks, suggesting distinct customer segments based on transaction frequency.\n",
        "\n",
        "3. Insights and Business Impact\n",
        "\n",
        "Identifying distinct customer segments enables targeted marketing and tiered loyalty strategies.\n",
        "High-frequency users may be high-value or risk-prone, guiding both personalization and fraud monitoring efforts.\n",
        "\n"
      ],
      "metadata": {
        "id": "cK1VseotXgq5"
      }
    },
    {
      "cell_type": "code",
      "source": [
        "# Plotting Weekday Trend\n",
        "plt.figure(figsize=(10,5))\n",
        "sns.barplot(x=weekday_txn.index, y=weekday_txn.values)\n",
        "plt.title(\"Transactions by Day of Week\")\n",
        "plt.xlabel(\"Weekday\")\n",
        "plt.ylabel(\"Transaction Count\")\n",
        "plt.show()"
      ],
      "metadata": {
        "colab": {
          "base_uri": "https://localhost:8080/",
          "height": 487
        },
        "id": "rUDAGqogJp0c",
        "outputId": "e6aba716-f9ef-4e4f-ee3b-48bde7038902"
      },
      "execution_count": 36,
      "outputs": [
        {
          "output_type": "display_data",
          "data": {
            "text/plain": [
              "<Figure size 1000x500 with 1 Axes>"
            ],
            "image/png": "[encoded data removed]"
          },
          "metadata": {}
        }
      ]
    },
    {
      "cell_type": "markdown",
      "source": [
        "1. Why did I choose this chart?\n",
        "\n",
        "A bar chart is ideal for comparing categorical data like weekdays. It clearly displays differences in transaction volumes across the week, making it easy to spot peaks and troughs.\n",
        "\n",
        "2. Insight(s) found from the chart?\n",
        "\n",
        "Monday and Thursday have the highest transaction volumes, while Saturday sees the lowest activity.\n",
        "\n",
        "3. Insights and Business Impact\n",
        "\n",
        "Higher transactions on weekdays suggest stronger engagement during the workweek, guiding resource allocation, campaign timing, and support staffing. Low weekend activity could indicate an opportunity to boost weekend promotions."
      ],
      "metadata": {
        "id": "JMRxM6WiYg2M"
      }
    },
    {
      "cell_type": "code",
      "source": [
        "plt.figure(figsize=(14,6))\n",
        "sns.barplot(data=category_spend, x='category', y='amt', hue='day_type')\n",
        "plt.xticks(rotation=45)\n",
        "plt.title('Spend by Category: Weekday vs Weekend')\n",
        "plt.ylabel('Total Spend')\n",
        "plt.xlabel('Category')\n",
        "plt.tight_layout()\n",
        "plt.show()\n"
      ],
      "metadata": {
        "colab": {
          "base_uri": "https://localhost:8080/",
          "height": 607
        },
        "id": "RCvYolj9KboN",
        "outputId": "b4b8a633-e91e-4b09-8c19-e603f62aed38"
      },
      "execution_count": 37,
      "outputs": [
        {
          "output_type": "display_data",
          "data": {
            "text/plain": [
              "<Figure size 1400x600 with 1 Axes>"
            ],
            "image/png": "[encoded data removed]"
          },
          "metadata": {}
        }
      ]
    },
    {
      "cell_type": "markdown",
      "source": [
        "1.Why did I choose this chart?\n",
        "\n",
        "A grouped bar chart effectively compares spending across multiple categories and day types (weekday vs weekend), making category-wise patterns and behavioral differences visually clear.\n",
        "\n",
        "2.Insight(s) found from the chart?\n",
        "\n",
        "Customers spend significantly more across all categories on weekdays, especially on grocery_pos, shopping_pos, and gas_transport.\n",
        "\n",
        "3.Insights and Business Impact\n",
        "Higher weekday spending highlights potential for weekday-based offers or campaigns.\n",
        "Categories with consistent weekend interest (like gas_transport or shopping) can be used for targeted weekend promotions or bundled offers to boost overall revenue.\n"
      ],
      "metadata": {
        "id": "Ki30JNEIZQIc"
      }
    },
    {
      "cell_type": "code",
      "source": [
        "# Convert 'month' to string for proper plotting on x-axis\n",
        "monthly_summary['month'] = monthly_summary['month'].astype(str)\n",
        "\n",
        "plt.figure(figsize=(12, 6))\n",
        "\n",
        "# Plot the % change lines\n",
        "sns.lineplot(data=monthly_summary, x='month', y='txn_mom_change', marker='o', label='Transaction % Change')\n",
        "sns.lineplot(data=monthly_summary, x='month', y='spend_mom_change', marker='o', label='Spend % Change')\n",
        "\n",
        "# Add horizontal reference line at 0\n",
        "plt.axhline(0, color='gray', linestyle='--', linewidth=1)\n",
        "\n",
        "# Chart labels and formatting\n",
        "plt.title('Month-over-Month % Change in Transactions and Spend')\n",
        "plt.xlabel('Month')\n",
        "plt.ylabel('% Change')\n",
        "plt.xticks(rotation=45)\n",
        "plt.legend()\n",
        "plt.tight_layout()\n",
        "\n",
        "# Show the plot\n",
        "plt.show()\n"
      ],
      "metadata": {
        "colab": {
          "base_uri": "https://localhost:8080/",
          "height": 607
        },
        "id": "-ti5yd0PLmbb",
        "outputId": "6bfd1219-c4c7-42f9-f2d7-3493c0fa3356"
      },
      "execution_count": 40,
      "outputs": [
        {
          "output_type": "display_data",
          "data": {
            "text/plain": [
              "<Figure size 1200x600 with 1 Axes>"
            ],
            "image/png": "[encoded data removed]"
          },
          "metadata": {}
        }
      ]
    },
    {
      "cell_type": "markdown",
      "source": [
        "1. Why did I choose this chart?\n",
        "\n",
        "A line chart clearly shows the month-over-month trends in both transactions and spend, making it easy to detect seasonal patterns, volatility, and anomalies over time.\n",
        "\n",
        "2. Insight(s) found from the chart?\n",
        "\n",
        "There's a strong correlation between spend and transaction trends, with a significant dip in Jan 2020, followed by a sharp recovery in Feb. Monthly fluctuations suggest seasonal or event-driven behavior.\n",
        "\n",
        "3. Insights and Business Impact\n",
        "\n",
        "Identifying periods of sharp decline or growth helps in forecasting, budget planning, and campaign timing. For example, the Jan 2020 drop may indicate post-holiday slowdown or external disruptions—warranting proactive strategy in similar periods.\n"
      ],
      "metadata": {
        "id": "26zJtFukZxHy"
      }
    },
    {
      "cell_type": "code",
      "source": [
        "pivot_avg_amt = category_by_time.pivot(index='Category', columns='Time of Day', values='Avg Amount')\n",
        "\n",
        "plt.figure(figsize=(12, 8))\n",
        "sns.heatmap(pivot_avg_amt, annot=True, fmt=\".1f\", cmap='YlGnBu')\n",
        "plt.title('Average Transaction Amount by Time of Day and Category')\n",
        "plt.xlabel('Time of Day')\n",
        "plt.ylabel('Category')\n",
        "plt.tight_layout()\n",
        "plt.show()"
      ],
      "metadata": {
        "colab": {
          "base_uri": "https://localhost:8080/",
          "height": 807
        },
        "id": "8JEpzd8tVdGF",
        "outputId": "90d4121b-679b-480d-e161-34b67d55698c"
      },
      "execution_count": 41,
      "outputs": [
        {
          "output_type": "display_data",
          "data": {
            "text/plain": [
              "<Figure size 1200x800 with 2 Axes>"
            ],
            "image/png": "[encoded data removed]"
          },
          "metadata": {}
        }
      ]
    },
    {
      "cell_type": "markdown",
      "source": [
        "1. Why did I choose this chart?\n",
        "\n",
        "A heatmap effectively visualizes patterns across two dimensions—time of day and category—making it easier to spot peak spending times and high-value categories.\n",
        "\n",
        "2. Insight(s) found from the chart?\n",
        "\n",
        "High transaction amounts occur for grocery_pos (late night & night) and travel (afternoon & night). Categories like misc_net and shopping_net also show elevated evening/night spending.\n",
        "\n",
        "3. Insights and Business Impact\n",
        "\n",
        "Spending peaks during late night/night hours for key categories suggest a strategic opportunity for targeted promotions, push notifications, or service availability during off-peak hours to boost engagement and conversion.\n",
        "\n"
      ],
      "metadata": {
        "id": "owWcdPPFaN3Y"
      }
    },
    {
      "cell_type": "markdown",
      "source": [
        "# Solution to Business Objective"
      ],
      "metadata": {
        "id": "1QBN9qdeqwns"
      }
    },
    {
      "cell_type": "markdown",
      "source": [
        "## Strategies to Maximize Customer Lifetime Value (CLV)"
      ],
      "metadata": {
        "id": "vHTmvgWXq_DS"
      }
    },
    {
      "cell_type": "markdown",
      "source": [
        "**1. Segment High-Value Customers for Retention**\n",
        "\n",
        "•\tIdentify customers with high frequency and high total spend using segmentation.\n",
        "\n",
        "•\tLaunch targeted loyalty programs or rewards to encourage continued usage.\n",
        "\n",
        "•\tIntroduce location- and category-specific cashback or offers tailored to their behavior.\n",
        "\n",
        "\n",
        "**2. Tailor Marketing Based on Category Preferences**\n",
        "\n",
        "•\tUse customer-specific category affinity (e.g., groceries, travel) to personalize campaigns.\n",
        "\n",
        "•\tRecommend merchants and offers that align with their top categories of spend.\n",
        "\n",
        "**3. Incentivize Low-Frequency, Medium-Value Customers**\n",
        "\n",
        "•\tDetect customers with occasional but high-value transactions and engage them with time-sensitive offers.\n",
        "\n",
        "•\tUse insights on their preferred time/day for transactions to time these nudges effectively.\n"
      ],
      "metadata": {
        "id": "CiE8HdG2rLws"
      }
    },
    {
      "cell_type": "markdown",
      "source": [
        "## Strategies for Fraud Prevention & Risk Mitigation"
      ],
      "metadata": {
        "id": "J71LedZarwXB"
      }
    },
    {
      "cell_type": "markdown",
      "source": [
        "**4. Flag High-Risk Patterns in Real-Time**\n",
        "\n",
        "Based on insights, focus fraud detection models on:\n",
        "\n",
        "    •\tLate-night transaction spikes\n",
        "    •\tAbnormal category usage\n",
        "    •\tHigh transaction velocity in a short time frame"
      ],
      "metadata": {
        "id": "D80xwBP4r2jb"
      }
    },
    {
      "cell_type": "markdown",
      "source": [
        "## Strategies to Improve Engagement & Usage"
      ],
      "metadata": {
        "id": "BPFc7ND_sOc2"
      }
    },
    {
      "cell_type": "markdown",
      "source": [
        "**5. Enhance Spend Experience Based on Time & Frequency**\n",
        "\n",
        "•\tRecommend offers during high-spend time windows (e.g., weekends or salary days).\n",
        "\n",
        "•\tCustomize card notifications and alerts based on the user’s transaction rhythm.\n",
        "\n",
        "\n",
        "**6. Reward Multi-Category Spend Behavior**\n",
        "\n",
        "•\tPromote offers that encourage customers to diversify spending across multiple categories.\n",
        "\n",
        "•\tRecognize customers with multi-category engagement as brand advocates or offer upsells (e.g., travel insurance, reward tiers).\n"
      ],
      "metadata": {
        "id": "LZnmEdVysYRv"
      }
    },
    {
      "cell_type": "markdown",
      "source": [
        "## Forecasting & Strategic Planning"
      ],
      "metadata": {
        "id": "hUeBmrQjtBfQ"
      }
    },
    {
      "cell_type": "markdown",
      "source": [
        "**7. Predict Future Spend Behavior**\n",
        "\n",
        "•\tLeverage historical trends to forecast spending dips or peaks.\n",
        "\n",
        "•\tUse this to optimize offer timing, budget allocation, and partnership planning with merchants.\n",
        "\n",
        "**8. Monitor CLV Trends Over Time**\n",
        "\n",
        "•\tTrack CLV and transaction metrics quarterly to assess campaign effectiveness.\n",
        "\n",
        "•\tAdjust segmentation and fraud filters dynamically based on updated patterns.\n"
      ],
      "metadata": {
        "id": "8PgvQT7VtIZH"
      }
    },
    {
      "cell_type": "markdown",
      "source": [
        "# Operational Improvements for Visa\n",
        "\n",
        "These improvements focus on enhancing Visa’s internal processes across risk management, customer engagement, and data-driven decision-making, based on your findings.\n",
        "\n"
      ],
      "metadata": {
        "id": "dVOKR4nStf5L"
      }
    },
    {
      "cell_type": "markdown",
      "source": [
        "## 1. Real-Time Fraud Monitoring Enhancements\n",
        "\n",
        "**Implement time-aware fraud rules**\n",
        "Based on the spike in fraud during late-night hours, integrate time-of-day thresholds into transaction monitoring systems.\n",
        "\n",
        "**Category-sensitive alerts**\n",
        "Enhance fraud systems to give greater weight to unusual category use (e.g., sudden shift from grocery to electronics).\n",
        "\n",
        "**Location-aware flagging**\n",
        "Add real-time location consistency checks (e.g., detecting transactions in distant states/countries in short succession).\n",
        "\n",
        "## 2. Segment-Based Campaign Targeting\n",
        "\n",
        "**Behavior-driven marketing**\n",
        "Use transaction frequency, total spend, and category preference to define customer segments for campaign personalization.\n",
        "\n",
        "**Lifecycle-based engagement flows**\n",
        "Set up automated outreach based on customer journey stage:\n",
        "\n",
        "New users → welcome & onboarding offers\n",
        "\n",
        "Lapsed users → re-engagement emails\n",
        "\n",
        "High-value users → loyalty rewards\n",
        "\n",
        "## 3. Customer Insights Centralization\n",
        "\n",
        "**Develop a unified CLV dashboard**\n",
        "Combine frequency, average spend, and category data into a single internal dashboard showing:\n",
        "\n",
        "CLV by customer segment\n",
        "\n",
        "Value trends over time\n",
        "\n",
        "At-risk customer lists\n",
        "\n",
        "**Enable cross-team access**\n",
        "Make transaction insights available to Marketing, Risk, and Product teams to inform campaign design and feature development.\n",
        "\n",
        "\n",
        "## 4. Merchant-Level Performance Monitoring\n",
        "\n",
        "**Track merchant contribution to fraud**\n",
        "Maintain a merchant risk score to identify fraud-prone partners and initiate compliance reviews where necessary.\n",
        "\n",
        "**Highlight top-performing merchants**\n",
        "Operationalize category-based merchant rankings for partnership optimization and co-marketing initiatives.\n",
        "\n",
        "## 5. Process Automation in Risk & Marketing\n",
        "\n",
        "**Automated alert generation**\n",
        "Trigger alerts for sudden spikes in transaction count, amount, or new category behavior from a user.\n",
        "\n",
        "**Dynamic offer deployment**\n",
        "Set up backend rules to automatically push offers to users with declining frequency or inactive segments.\n",
        "\n",
        "## 6. Forecast-Driven Operational Planning\n",
        "\n",
        "**Weekly/monthly transaction forecasts**\n",
        "Use historical transaction data to forecast volume and allocate resources (e.g., fraud review teams) accordingly.\n",
        "\n",
        "**Campaign timing optimization**\n",
        "Plan high-budget campaigns around predicted transaction surges (e.g., end-of-month salary days or holidays)."
      ],
      "metadata": {
        "id": "cqnVcMKqtoQ9"
      }
    }
  ]
}